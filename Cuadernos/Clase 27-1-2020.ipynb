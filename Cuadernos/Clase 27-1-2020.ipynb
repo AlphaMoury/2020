{
 "cells": [
  {
   "cell_type": "markdown",
   "metadata": {},
   "source": [
    "# Introducción a funciones en Python y al paquete Pandas\n",
    "\n",
    "**Universidad Central**\n",
    "\n",
    "*Carlos Zainea, Daniel Montenegro y Luis Campos*"
   ]
  },
  {
   "cell_type": "markdown",
   "metadata": {},
   "source": [
    "Uno de los paquetes fundamentales y más usados para el análisis de datos es [pandas](https://pandas.pydata.org/pandas-docs/stable/getting_started/index.html), una biblioteca de software que ofrece la posibilidad de estructurar y explorar colecciones de datos de forma rapida y sencilla caracterizado por la fluidez en diversas funciones.\n",
    "\n",
    "Usaremos este paquete para extraer información importante de la base [Predios2016](https://www.dropbox.com/s/smuouwv4pzcvdk7/Predio2016.csv?dl=0) que contiene alrededor de 2.5 millones de registros con 22 características.\n",
    "\n",
    "\n",
    "Iniciamos importando los paquetes:"
   ]
  },
  {
   "cell_type": "code",
   "execution_count": null,
   "metadata": {
    "ExecuteTime": {
     "end_time": "2020-01-27T21:54:32.390561Z",
     "start_time": "2020-01-27T21:54:31.589206Z"
    }
   },
   "outputs": [],
   "source": [
    "import numpy as np\n",
    "import pandas as pd\n",
    "import scipy as sp "
   ]
  },
  {
   "cell_type": "markdown",
   "metadata": {},
   "source": [
    "## Funciones básicas de pandas\n",
    "\n",
    "Lo primero que debemos tener en cuenta es que la libreria pandas admite dos tipos de arreglos de datos, las series que expresan un arreglo lineal de información y los marcos de datos (DataFrames), que  corresponden a colecciones de series. Veamos a continuación algunos ejemplos:"
   ]
  },
  {
   "cell_type": "markdown",
   "metadata": {},
   "source": [
    "## Series\n",
    "\n",
    "A continuación listamos los valores [1, 3, 5, nan, 6, 8] y lo asignamos a la variable s usando pandas:"
   ]
  },
  {
   "cell_type": "code",
   "execution_count": null,
   "metadata": {
    "ExecuteTime": {
     "end_time": "2020-01-27T19:48:19.605347Z",
     "start_time": "2020-01-27T19:48:19.600618Z"
    }
   },
   "outputs": [],
   "source": [
    "s = pd.Series([1, 3, 5, np.nan, 6, 8])\n",
    "s"
   ]
  },
  {
   "cell_type": "markdown",
   "metadata": {},
   "source": [
    "Incluso podemos crear más series de datos, aprovechemos los bucles para crear más, quizas la serie de los primeros 100 números triangulares.\n",
    "\n",
    "> *Un número triangular corresponde a la cantidad de puntos que componen a un triángulo equilatero. Según el siguiente gráfico es facil ver que se obtiene a partir de la suma de los números naturales anteriores a un valor $n$ dado.\n",
    "![Triangularnumbers](https://study.com/cimages/multimages/16/374px-first_six_triangular_numbers.svg.png)\n",
    "\n",
    "Usando `for` es fácil encontrar estos números pues $T_n=1+2+3+\\cdots+(n-1)+n$, luego el siguiente código permitira ubicar los números triangulares en una lista:\n"
   ]
  },
  {
   "cell_type": "code",
   "execution_count": null,
   "metadata": {
    "ExecuteTime": {
     "end_time": "2020-01-27T21:49:32.828355Z",
     "start_time": "2020-01-27T21:49:32.823876Z"
    }
   },
   "outputs": [],
   "source": [
    "T=[] #Creamos una lista vacía\n",
    "t=0 #Este valor guardará temporalmente el número triangular\n",
    "for i in range(100): #Observe que range(100) es la lista de valores [0,1,...,99], el comando for toma elementos de una lista.\n",
    "    t=t+i\n",
    "    T.append(t)\n",
    "print(T)"
   ]
  },
  {
   "cell_type": "code",
   "execution_count": null,
   "metadata": {
    "ExecuteTime": {
     "end_time": "2020-01-27T20:03:23.529278Z",
     "start_time": "2020-01-27T20:03:23.524791Z"
    }
   },
   "outputs": [],
   "source": [
    "T #Observe el valor de T"
   ]
  },
  {
   "cell_type": "markdown",
   "metadata": {},
   "source": [
    "Ahora hagamos una Serie de pandas que muestre los números triangulares:"
   ]
  },
  {
   "cell_type": "code",
   "execution_count": null,
   "metadata": {
    "ExecuteTime": {
     "end_time": "2020-01-27T21:49:55.418944Z",
     "start_time": "2020-01-27T21:49:55.366440Z"
    }
   },
   "outputs": [],
   "source": [
    "Numeros_triangulares=pd.Series(T,name=\"Números Triangulares\")"
   ]
  },
  {
   "cell_type": "code",
   "execution_count": null,
   "metadata": {
    "ExecuteTime": {
     "end_time": "2020-01-27T20:06:42.625543Z",
     "start_time": "2020-01-27T20:06:42.595944Z"
    }
   },
   "outputs": [],
   "source": [
    "Numeros_triangulares"
   ]
  },
  {
   "cell_type": "markdown",
   "metadata": {},
   "source": [
    "## Pandas y la carga de datos\n",
    "Después de cargar pandas configuramos la opción que nos permita ver todas las columnas de nuestra base de datos:"
   ]
  },
  {
   "cell_type": "code",
   "execution_count": null,
   "metadata": {
    "ExecuteTime": {
     "end_time": "2020-01-27T19:32:24.786051Z",
     "start_time": "2020-01-27T19:32:24.783402Z"
    }
   },
   "outputs": [],
   "source": [
    "pd.set_option('display.max_columns', None)"
   ]
  },
  {
   "cell_type": "markdown",
   "metadata": {},
   "source": [
    "La función [set_option de pandas](https://pandas.pydata.org/pandas-docs/stable/user_guide/options.html) nos permite personalizar la vista de los datos en la consola de salida. Podemos establecer a cantidad de columnas o filas que apareceran en el output de la celda que presente el DataFrame que guardamos. \n",
    "\n",
    "La siguiente celda de código carga los datos del archivo `Predios2016.csv` usando la función [`pd.read_csv`]() observe que en la declaración de carga de datos indico la separación en csv"
   ]
  },
  {
   "cell_type": "code",
   "execution_count": null,
   "metadata": {
    "ExecuteTime": {
     "end_time": "2020-01-27T21:54:52.298303Z",
     "start_time": "2020-01-27T21:54:41.054789Z"
    }
   },
   "outputs": [],
   "source": [
    "df = pd.read_csv('Predio2016.csv',sep=',',low_memory=False)\n",
    "len(df)"
   ]
  },
  {
   "cell_type": "markdown",
   "metadata": {},
   "source": [
    "## Conteo de barrios"
   ]
  },
  {
   "cell_type": "code",
   "execution_count": null,
   "metadata": {
    "ExecuteTime": {
     "end_time": "2020-01-27T22:08:58.825220Z",
     "start_time": "2020-01-27T22:08:58.645138Z"
    }
   },
   "outputs": [],
   "source": [
    "bar=df.groupby('NOMBRE_BARRIO')[\"CHIP\"].count()"
   ]
  },
  {
   "cell_type": "code",
   "execution_count": null,
   "metadata": {
    "ExecuteTime": {
     "end_time": "2020-01-27T22:08:59.298043Z",
     "start_time": "2020-01-27T22:08:59.293318Z"
    }
   },
   "outputs": [],
   "source": [
    "bar"
   ]
  },
  {
   "cell_type": "code",
   "execution_count": null,
   "metadata": {
    "ExecuteTime": {
     "end_time": "2020-01-27T21:55:22.257483Z",
     "start_time": "2020-01-27T21:55:22.252665Z"
    }
   },
   "outputs": [],
   "source": [
    "def f(x):\n",
    "     return pd.Series(dict(Cantidad= x['CHIP'].count() \n",
    "                        ))"
   ]
  },
  {
   "cell_type": "code",
   "execution_count": null,
   "metadata": {
    "ExecuteTime": {
     "end_time": "2020-01-27T21:55:24.166916Z",
     "start_time": "2020-01-27T21:55:23.269039Z"
    }
   },
   "outputs": [],
   "source": [
    "cb=df.groupby('NOMBRE_BARRIO').apply(f)"
   ]
  },
  {
   "cell_type": "code",
   "execution_count": null,
   "metadata": {
    "ExecuteTime": {
     "end_time": "2020-01-27T21:56:06.737810Z",
     "start_time": "2020-01-27T21:56:06.722244Z"
    }
   },
   "outputs": [],
   "source": [
    "cb"
   ]
  },
  {
   "cell_type": "code",
   "execution_count": null,
   "metadata": {},
   "outputs": [],
   "source": [
    "cb.to_csv('prediosporbarrio.csv')"
   ]
  },
  {
   "cell_type": "code",
   "execution_count": null,
   "metadata": {},
   "outputs": [],
   "source": [
    "len(pd.unique(cb.BARRIO))"
   ]
  },
  {
   "cell_type": "markdown",
   "metadata": {},
   "source": [
    "## Barrios Grandes"
   ]
  },
  {
   "cell_type": "code",
   "execution_count": null,
   "metadata": {},
   "outputs": [],
   "source": [
    "BarriosGrandes = cb[cb['Cantidad']>10000]"
   ]
  },
  {
   "cell_type": "code",
   "execution_count": null,
   "metadata": {},
   "outputs": [],
   "source": [
    "BarriosGrandes"
   ]
  },
  {
   "cell_type": "code",
   "execution_count": null,
   "metadata": {},
   "outputs": [],
   "source": [
    "len(BarriosGrandes)"
   ]
  },
  {
   "cell_type": "code",
   "execution_count": null,
   "metadata": {},
   "outputs": [],
   "source": [
    "DataFrame.sort_index(BarriosGrandes)"
   ]
  }
 ],
 "metadata": {
  "kernelspec": {
   "display_name": "Python 3",
   "language": "python",
   "name": "python3"
  },
  "language_info": {
   "codemirror_mode": {
    "name": "ipython",
    "version": 3
   },
   "file_extension": ".py",
   "mimetype": "text/x-python",
   "name": "python",
   "nbconvert_exporter": "python",
   "pygments_lexer": "ipython3",
   "version": "3.7.3"
  },
  "latex_envs": {
   "LaTeX_envs_menu_present": true,
   "autoclose": true,
   "autocomplete": true,
   "bibliofile": "biblio.bib",
   "cite_by": "apalike",
   "current_citInitial": 1,
   "eqLabelWithNumbers": true,
   "eqNumInitial": 1,
   "hotkeys": {
    "equation": "Ctrl-E",
    "itemize": "Ctrl-I"
   },
   "labels_anchors": false,
   "latex_user_defs": false,
   "report_style_numbering": false,
   "user_envs_cfg": true
  },
  "toc": {
   "base_numbering": 1,
   "nav_menu": {},
   "number_sections": false,
   "sideBar": true,
   "skip_h1_title": false,
   "title_cell": "Table of Contents",
   "title_sidebar": "Contents",
   "toc_cell": false,
   "toc_position": {},
   "toc_section_display": true,
   "toc_window_display": false
  }
 },
 "nbformat": 4,
 "nbformat_minor": 2
}
