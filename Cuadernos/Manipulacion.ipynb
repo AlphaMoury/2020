{
 "cells": [
  {
   "cell_type": "markdown",
   "metadata": {},
   "source": [
    "# Manipulación de datos en Python\n",
    "\n",
    "Es muy útil poder leer datos, pero es aún más útil poder modificarlos a nuestro antojo.\n",
    "\n",
    "Hay varias maneras de hacer esto,usando diferentes módulos de Python."
   ]
  },
  {
   "cell_type": "markdown",
   "metadata": {},
   "source": [
    "# Usando Pandas\n",
    "## Carga de bases de datos\n",
    "\n",
    "Una de las mejores opciones para trabajar con datos tabulares en Python es usar el modulo **pandas**. La biblioteca **pandas** provee estructuras de datos, genera gráficos de alta calidad con matplotlib y se integra de buena forma con otras bibliotecas que usan arrays de NumPy (la cual es otra biblioteca de Python).\n",
    "\n",
    "El beneficio frente a otros paquetes es el de cargar las información en forma de DataFrame, la cual  es una estructura de datos con dos dimensiones en la cual se puede guardar datos de distintos tipos (como caractéres, enteros, valores de punto flotante, factores y más) en columnas. \n",
    "\n",
    "El uso de las funciones en el modulo para cargar datos dependerá de el formato del archivo a cargar.\n",
    "\n",
    "\n",
    "\n",
    "| **Formato** | **Código** |\n",
    "| :---: | :---: |\n",
    "|csv|pandas.read_csv|\n",
    "|xls o xlsx|pandas.read_excel|\n",
    "|txt|pandas.read_csv|\n",
    "|sql|pandas.read_sql|\n",
    "\n",
    "Para esto debemos instalar el modulo de python llamado xlrd, la siguiente sentencia nos ayuda a hacer la instalación."
   ]
  },
  {
   "cell_type": "code",
   "execution_count": 68,
   "metadata": {},
   "outputs": [
    {
     "name": "stdout",
     "output_type": "stream",
     "text": [
      "Requirement already satisfied: xlrd in c:\\users\\antonino\\anaconda3\\ana\\lib\\site-packages (1.2.0)\n"
     ]
    }
   ],
   "source": [
    "!pip install xlrd"
   ]
  },
  {
   "cell_type": "markdown",
   "metadata": {},
   "source": [
    "## Carga de archivo  excel"
   ]
  },
  {
   "cell_type": "code",
   "execution_count": 85,
   "metadata": {
    "scrolled": true
   },
   "outputs": [
    {
     "data": {
      "text/html": [
       "<div>\n",
       "<style scoped>\n",
       "    .dataframe tbody tr th:only-of-type {\n",
       "        vertical-align: middle;\n",
       "    }\n",
       "\n",
       "    .dataframe tbody tr th {\n",
       "        vertical-align: top;\n",
       "    }\n",
       "\n",
       "    .dataframe thead th {\n",
       "        text-align: right;\n",
       "    }\n",
       "</style>\n",
       "<table border=\"1\" class=\"dataframe\">\n",
       "  <thead>\n",
       "    <tr style=\"text-align: right;\">\n",
       "      <th></th>\n",
       "      <th>SO2</th>\n",
       "      <th>Neg,Temp</th>\n",
       "      <th>Empresas</th>\n",
       "      <th>Población</th>\n",
       "      <th>Viento</th>\n",
       "      <th>Precipitación</th>\n",
       "      <th>Dias</th>\n",
       "    </tr>\n",
       "  </thead>\n",
       "  <tbody>\n",
       "    <tr>\n",
       "      <td>Phoenix</td>\n",
       "      <td>10</td>\n",
       "      <td>70.3</td>\n",
       "      <td>213</td>\n",
       "      <td>582</td>\n",
       "      <td>6.0</td>\n",
       "      <td>7.05</td>\n",
       "      <td>36</td>\n",
       "    </tr>\n",
       "    <tr>\n",
       "      <td>Miami</td>\n",
       "      <td>10</td>\n",
       "      <td>75.5</td>\n",
       "      <td>207</td>\n",
       "      <td>335</td>\n",
       "      <td>9.0</td>\n",
       "      <td>59.80</td>\n",
       "      <td>128</td>\n",
       "    </tr>\n",
       "    <tr>\n",
       "      <td>Memphis</td>\n",
       "      <td>10</td>\n",
       "      <td>61.6</td>\n",
       "      <td>337</td>\n",
       "      <td>624</td>\n",
       "      <td>9.2</td>\n",
       "      <td>49.10</td>\n",
       "      <td>105</td>\n",
       "    </tr>\n",
       "    <tr>\n",
       "      <td>Houston</td>\n",
       "      <td>10</td>\n",
       "      <td>68.9</td>\n",
       "      <td>721</td>\n",
       "      <td>1233</td>\n",
       "      <td>10.8</td>\n",
       "      <td>48.19</td>\n",
       "      <td>103</td>\n",
       "    </tr>\n",
       "    <tr>\n",
       "      <td>Alburquerque</td>\n",
       "      <td>11</td>\n",
       "      <td>56.8</td>\n",
       "      <td>46</td>\n",
       "      <td>244</td>\n",
       "      <td>8.9</td>\n",
       "      <td>7.77</td>\n",
       "      <td>58</td>\n",
       "    </tr>\n",
       "  </tbody>\n",
       "</table>\n",
       "</div>"
      ],
      "text/plain": [
       "              SO2  Neg,Temp  Empresas  Población  Viento  Precipitación  Dias\n",
       "Phoenix        10      70.3       213        582     6.0           7.05    36\n",
       "Miami          10      75.5       207        335     9.0          59.80   128\n",
       "Memphis        10      61.6       337        624     9.2          49.10   105\n",
       "Houston        10      68.9       721       1233    10.8          48.19   103\n",
       "Alburquerque   11      56.8        46        244     8.9           7.77    58"
      ]
     },
     "execution_count": 85,
     "metadata": {},
     "output_type": "execute_result"
    }
   ],
   "source": [
    "import pandas as pd\n",
    "data=pd.read_excel(\"C:/Users/Antonino/Desktop/Base1.xlsx\",\"Hoja2\",index_col=0,header=0)\n",
    "data.head()# es util para verificar la cabecerade los datos"
   ]
  },
  {
   "cell_type": "markdown",
   "metadata": {},
   "source": [
    "para verificar la estructura de los datos podemos usar el comando type()"
   ]
  },
  {
   "cell_type": "code",
   "execution_count": 88,
   "metadata": {},
   "outputs": [
    {
     "data": {
      "text/plain": [
       "SO2                int64\n",
       "Neg,Temp         float64\n",
       "Empresas           int64\n",
       "Población          int64\n",
       "Viento           float64\n",
       "Precipitación    float64\n",
       "Dias               int64\n",
       "dtype: object"
      ]
     },
     "execution_count": 88,
     "metadata": {},
     "output_type": "execute_result"
    }
   ],
   "source": [
    "data.dtypes"
   ]
  },
  {
   "cell_type": "markdown",
   "metadata": {},
   "source": [
    "## Carga de archivo  txt"
   ]
  },
  {
   "cell_type": "code",
   "execution_count": 286,
   "metadata": {},
   "outputs": [
    {
     "name": "stdout",
     "output_type": "stream",
     "text": [
      "   x1  x2  x3  x4  x5\n",
      "0   1   2   3   4   5\n",
      "1   6   7   8   9  10\n"
     ]
    }
   ],
   "source": [
    "data2=pd.read_csv(\"C:/Users/Antonino/Desktop/data.txt\",delimiter=\";\",header=0,index_col=None,decimal=\".\")\n",
    "print(data2)"
   ]
  },
  {
   "cell_type": "markdown",
   "metadata": {},
   "source": [
    "para conocer la dimensión del Data.Frame usamos la sentencia shape"
   ]
  },
  {
   "cell_type": "code",
   "execution_count": 105,
   "metadata": {},
   "outputs": [
    {
     "data": {
      "text/plain": [
       "(2, 5)"
      ]
     },
     "execution_count": 105,
     "metadata": {},
     "output_type": "execute_result"
    }
   ],
   "source": [
    "data2.shape"
   ]
  },
  {
   "cell_type": "markdown",
   "metadata": {},
   "source": [
    "# Cargar datos desde Internet\n",
    "\n",
    "Para esto, basta suministrar la dirección url donde se encuentran alojados los datos e importar ciertos atributos del módulo **urllib**:"
   ]
  },
  {
   "cell_type": "code",
   "execution_count": 123,
   "metadata": {},
   "outputs": [
    {
     "name": "stdout",
     "output_type": "stream",
     "text": [
      "Las primeras 3 filas son \n",
      " \n",
      "    0    1   2   3  4     5      6   7  8\n",
      "0  6  148  72  35  0  33.6  0.627  50  1\n",
      "1  1   85  66  29  0  26.6  0.351  31  0\n",
      "2  8  183  64   0  0  23.3  0.672  32  1 \n",
      "\n",
      "\n",
      "La estructura de cada columna es \n",
      " \n",
      " 0      int64\n",
      "1      int64\n",
      "2      int64\n",
      "3      int64\n",
      "4      int64\n",
      "5    float64\n",
      "6    float64\n",
      "7      int64\n",
      "8      int64\n",
      "dtype: object\n"
     ]
    }
   ],
   "source": [
    "url = \"https://raw.githubusercontent.com/jbrownlee/Datasets/master/pima-indians-diabetes.data.csv\"\n",
    "data3= pd.read_csv(url,header=None)\n",
    "print(\"Las primeras 3 filas son \\n \\n\", data3.head(3),\"\\n\\n\")\n",
    "print(\"La estructura de cada columna es \\n \\n\", data3.dtypes)"
   ]
  },
  {
   "cell_type": "markdown",
   "metadata": {},
   "source": [
    "Es posible cambiar la estructura de cada una de las columnas en nuestro Data.Frame, esto puede ser directamente al cargar nuestra base o luego de esto, para el conjunto de datos data3 cambiaremos la estructura de la variable 1"
   ]
  },
  {
   "cell_type": "code",
   "execution_count": 135,
   "metadata": {},
   "outputs": [
    {
     "data": {
      "text/plain": [
       "Index(['V1', 'V2', 2, 3, 4, 5, 6, 7, 8], dtype='object')"
      ]
     },
     "execution_count": 135,
     "metadata": {},
     "output_type": "execute_result"
    }
   ],
   "source": [
    "data3.rename(columns={0:'V1',1:'V2'}, inplace=True)\n",
    "data3.columns"
   ]
  },
  {
   "cell_type": "code",
   "execution_count": 137,
   "metadata": {},
   "outputs": [
    {
     "name": "stdout",
     "output_type": "stream",
     "text": [
      "La estructura de cada columna es \n",
      " \n",
      " V1     object\n",
      "V2      int64\n",
      "2       int64\n",
      "3       int64\n",
      "4       int64\n",
      "5     float64\n",
      "6     float64\n",
      "7       int64\n",
      "8       int64\n",
      "dtype: object\n"
     ]
    }
   ],
   "source": [
    "data3.V1 = data3.V1.astype(str)\n",
    "print(\"La estructura de cada columna es \\n \\n\", data3.dtypes)"
   ]
  },
  {
   "cell_type": "markdown",
   "metadata": {},
   "source": [
    "## Seleccionar filas y columnas\n",
    "Para seleccionar un conjunto de filas , podemos usar la sentencia iloc\n",
    "\n",
    "la estructura para la función iloc es \n",
    "\n",
    "data.iloc[__filas__,__columnas__]"
   ]
  },
  {
   "cell_type": "code",
   "execution_count": 165,
   "metadata": {},
   "outputs": [
    {
     "data": {
      "text/html": [
       "<div>\n",
       "<style scoped>\n",
       "    .dataframe tbody tr th:only-of-type {\n",
       "        vertical-align: middle;\n",
       "    }\n",
       "\n",
       "    .dataframe tbody tr th {\n",
       "        vertical-align: top;\n",
       "    }\n",
       "\n",
       "    .dataframe thead th {\n",
       "        text-align: right;\n",
       "    }\n",
       "</style>\n",
       "<table border=\"1\" class=\"dataframe\">\n",
       "  <thead>\n",
       "    <tr style=\"text-align: right;\">\n",
       "      <th></th>\n",
       "      <th>SO2</th>\n",
       "      <th>Neg,Temp</th>\n",
       "      <th>Empresas</th>\n",
       "      <th>Población</th>\n",
       "      <th>Viento</th>\n",
       "      <th>Precipitación</th>\n",
       "      <th>Dias</th>\n",
       "    </tr>\n",
       "  </thead>\n",
       "  <tbody>\n",
       "    <tr>\n",
       "      <td>Phoenix</td>\n",
       "      <td>10</td>\n",
       "      <td>70.3</td>\n",
       "      <td>213</td>\n",
       "      <td>582</td>\n",
       "      <td>6.0</td>\n",
       "      <td>7.05</td>\n",
       "      <td>36</td>\n",
       "    </tr>\n",
       "    <tr>\n",
       "      <td>Miami</td>\n",
       "      <td>10</td>\n",
       "      <td>75.5</td>\n",
       "      <td>207</td>\n",
       "      <td>335</td>\n",
       "      <td>9.0</td>\n",
       "      <td>59.80</td>\n",
       "      <td>128</td>\n",
       "    </tr>\n",
       "    <tr>\n",
       "      <td>Memphis</td>\n",
       "      <td>10</td>\n",
       "      <td>61.6</td>\n",
       "      <td>337</td>\n",
       "      <td>624</td>\n",
       "      <td>9.2</td>\n",
       "      <td>49.10</td>\n",
       "      <td>105</td>\n",
       "    </tr>\n",
       "  </tbody>\n",
       "</table>\n",
       "</div>"
      ],
      "text/plain": [
       "         SO2  Neg,Temp  Empresas  Población  Viento  Precipitación  Dias\n",
       "Phoenix   10      70.3       213        582     6.0           7.05    36\n",
       "Miami     10      75.5       207        335     9.0          59.80   128\n",
       "Memphis   10      61.6       337        624     9.2          49.10   105"
      ]
     },
     "execution_count": 165,
     "metadata": {},
     "output_type": "execute_result"
    }
   ],
   "source": [
    "data.iloc[[0,1,2],:]"
   ]
  },
  {
   "cell_type": "code",
   "execution_count": 288,
   "metadata": {},
   "outputs": [
    {
     "data": {
      "text/html": [
       "<div>\n",
       "<style scoped>\n",
       "    .dataframe tbody tr th:only-of-type {\n",
       "        vertical-align: middle;\n",
       "    }\n",
       "\n",
       "    .dataframe tbody tr th {\n",
       "        vertical-align: top;\n",
       "    }\n",
       "\n",
       "    .dataframe thead th {\n",
       "        text-align: right;\n",
       "    }\n",
       "</style>\n",
       "<table border=\"1\" class=\"dataframe\">\n",
       "  <thead>\n",
       "    <tr style=\"text-align: right;\">\n",
       "      <th></th>\n",
       "      <th>SO2</th>\n",
       "      <th>Neg,Temp</th>\n",
       "      <th>Empresas</th>\n",
       "    </tr>\n",
       "  </thead>\n",
       "  <tbody>\n",
       "    <tr>\n",
       "      <td>Phoenix</td>\n",
       "      <td>10</td>\n",
       "      <td>70.3</td>\n",
       "      <td>213</td>\n",
       "    </tr>\n",
       "    <tr>\n",
       "      <td>Miami</td>\n",
       "      <td>10</td>\n",
       "      <td>75.5</td>\n",
       "      <td>207</td>\n",
       "    </tr>\n",
       "  </tbody>\n",
       "</table>\n",
       "</div>"
      ],
      "text/plain": [
       "         SO2  Neg,Temp  Empresas\n",
       "Phoenix   10      70.3       213\n",
       "Miami     10      75.5       207"
      ]
     },
     "execution_count": 288,
     "metadata": {},
     "output_type": "execute_result"
    }
   ],
   "source": [
    "d4=data.iloc[[0,1],[0,1,2]]\n",
    "d4"
   ]
  },
  {
   "cell_type": "markdown",
   "metadata": {},
   "source": [
    "## Concatenar bases\n",
    "Es posible que en algún momento debamos unir 2 o más Data.frames en solamnete uno."
   ]
  },
  {
   "cell_type": "code",
   "execution_count": 182,
   "metadata": {},
   "outputs": [
    {
     "data": {
      "text/html": [
       "<div>\n",
       "<style scoped>\n",
       "    .dataframe tbody tr th:only-of-type {\n",
       "        vertical-align: middle;\n",
       "    }\n",
       "\n",
       "    .dataframe tbody tr th {\n",
       "        vertical-align: top;\n",
       "    }\n",
       "\n",
       "    .dataframe thead th {\n",
       "        text-align: right;\n",
       "    }\n",
       "</style>\n",
       "<table border=\"1\" class=\"dataframe\">\n",
       "  <thead>\n",
       "    <tr style=\"text-align: right;\">\n",
       "      <th></th>\n",
       "      <th>SO2</th>\n",
       "      <th>Neg,Temp</th>\n",
       "      <th>Empresas</th>\n",
       "      <th>Precipitación</th>\n",
       "      <th>Dias</th>\n",
       "    </tr>\n",
       "  </thead>\n",
       "  <tbody>\n",
       "    <tr>\n",
       "      <td>Phoenix</td>\n",
       "      <td>10</td>\n",
       "      <td>70.3</td>\n",
       "      <td>213</td>\n",
       "      <td>7.05</td>\n",
       "      <td>36</td>\n",
       "    </tr>\n",
       "    <tr>\n",
       "      <td>Miami</td>\n",
       "      <td>10</td>\n",
       "      <td>75.5</td>\n",
       "      <td>207</td>\n",
       "      <td>59.80</td>\n",
       "      <td>128</td>\n",
       "    </tr>\n",
       "  </tbody>\n",
       "</table>\n",
       "</div>"
      ],
      "text/plain": [
       "         SO2  Neg,Temp  Empresas  Precipitación  Dias\n",
       "Phoenix   10      70.3       213           7.05    36\n",
       "Miami     10      75.5       207          59.80   128"
      ]
     },
     "execution_count": 182,
     "metadata": {},
     "output_type": "execute_result"
    }
   ],
   "source": [
    "d5=data.iloc[[0,1,2,4],[5,6]]\n",
    "union=[d4,d5]\n",
    "pd.concat(union,axis=1,join=\"inner\")"
   ]
  },
  {
   "cell_type": "markdown",
   "metadata": {},
   "source": [
    "## Aplicar funciones sobre columnas o filas\n",
    "Para aplicar una función en una columna o fila, puedes usar el método apply() de DataFrame."
   ]
  },
  {
   "cell_type": "code",
   "execution_count": 192,
   "metadata": {},
   "outputs": [
    {
     "data": {
      "text/plain": [
       "SO2               1232.00\n",
       "Neg,Temp          2286.30\n",
       "Empresas         18987.00\n",
       "Población        24953.00\n",
       "Viento             387.20\n",
       "Precipitación     1507.53\n",
       "Dias              4670.00\n",
       "dtype: float64"
      ]
     },
     "execution_count": 192,
     "metadata": {},
     "output_type": "execute_result"
    }
   ],
   "source": [
    "data.apply(np.sum,axis=0)"
   ]
  },
  {
   "cell_type": "markdown",
   "metadata": {},
   "source": [
    "Para aplicar la función a una columna especifica, puedes especificar la columna de la siguiente forma:"
   ]
  },
  {
   "cell_type": "code",
   "execution_count": 207,
   "metadata": {},
   "outputs": [
    {
     "data": {
      "text/plain": [
       "Phoenix         3.162278\n",
       "Miami           3.162278\n",
       "Memphis         3.162278\n",
       "Houston         3.162278\n",
       "Alburquerque    3.316625\n",
       "Name: SO2, dtype: float64"
      ]
     },
     "execution_count": 207,
     "metadata": {},
     "output_type": "execute_result"
    }
   ],
   "source": [
    "data[\"SO2\"].apply(np.sqrt).head()\n"
   ]
  },
  {
   "cell_type": "markdown",
   "metadata": {},
   "source": [
    "## Ordenar el Data.Frame"
   ]
  },
  {
   "cell_type": "code",
   "execution_count": 216,
   "metadata": {},
   "outputs": [
    {
     "data": {
      "text/html": [
       "<div>\n",
       "<style scoped>\n",
       "    .dataframe tbody tr th:only-of-type {\n",
       "        vertical-align: middle;\n",
       "    }\n",
       "\n",
       "    .dataframe tbody tr th {\n",
       "        vertical-align: top;\n",
       "    }\n",
       "\n",
       "    .dataframe thead th {\n",
       "        text-align: right;\n",
       "    }\n",
       "</style>\n",
       "<table border=\"1\" class=\"dataframe\">\n",
       "  <thead>\n",
       "    <tr style=\"text-align: right;\">\n",
       "      <th></th>\n",
       "      <th>SO2</th>\n",
       "      <th>Neg,Temp</th>\n",
       "      <th>Empresas</th>\n",
       "      <th>Población</th>\n",
       "      <th>Viento</th>\n",
       "      <th>Precipitación</th>\n",
       "      <th>Dias</th>\n",
       "    </tr>\n",
       "  </thead>\n",
       "  <tbody>\n",
       "    <tr>\n",
       "      <td>Wichita</td>\n",
       "      <td>8</td>\n",
       "      <td>56.6</td>\n",
       "      <td>125</td>\n",
       "      <td>277</td>\n",
       "      <td>12.7</td>\n",
       "      <td>30.58</td>\n",
       "      <td>82</td>\n",
       "    </tr>\n",
       "    <tr>\n",
       "      <td>New</td>\n",
       "      <td>9</td>\n",
       "      <td>68.3</td>\n",
       "      <td>204</td>\n",
       "      <td>361</td>\n",
       "      <td>8.4</td>\n",
       "      <td>56.77</td>\n",
       "      <td>113</td>\n",
       "    </tr>\n",
       "    <tr>\n",
       "      <td>Dallas</td>\n",
       "      <td>9</td>\n",
       "      <td>66.2</td>\n",
       "      <td>641</td>\n",
       "      <td>844</td>\n",
       "      <td>10.9</td>\n",
       "      <td>35.94</td>\n",
       "      <td>78</td>\n",
       "    </tr>\n",
       "    <tr>\n",
       "      <td>Miami</td>\n",
       "      <td>10</td>\n",
       "      <td>75.5</td>\n",
       "      <td>207</td>\n",
       "      <td>335</td>\n",
       "      <td>9.0</td>\n",
       "      <td>59.80</td>\n",
       "      <td>128</td>\n",
       "    </tr>\n",
       "    <tr>\n",
       "      <td>Phoenix</td>\n",
       "      <td>10</td>\n",
       "      <td>70.3</td>\n",
       "      <td>213</td>\n",
       "      <td>582</td>\n",
       "      <td>6.0</td>\n",
       "      <td>7.05</td>\n",
       "      <td>36</td>\n",
       "    </tr>\n",
       "    <tr>\n",
       "      <td>Memphis</td>\n",
       "      <td>10</td>\n",
       "      <td>61.6</td>\n",
       "      <td>337</td>\n",
       "      <td>624</td>\n",
       "      <td>9.2</td>\n",
       "      <td>49.10</td>\n",
       "      <td>105</td>\n",
       "    </tr>\n",
       "    <tr>\n",
       "      <td>Houston</td>\n",
       "      <td>10</td>\n",
       "      <td>68.9</td>\n",
       "      <td>721</td>\n",
       "      <td>1233</td>\n",
       "      <td>10.8</td>\n",
       "      <td>48.19</td>\n",
       "      <td>103</td>\n",
       "    </tr>\n",
       "    <tr>\n",
       "      <td>Alburquerque</td>\n",
       "      <td>11</td>\n",
       "      <td>56.8</td>\n",
       "      <td>46</td>\n",
       "      <td>244</td>\n",
       "      <td>8.9</td>\n",
       "      <td>7.77</td>\n",
       "      <td>58</td>\n",
       "    </tr>\n",
       "    <tr>\n",
       "      <td>Buffalo</td>\n",
       "      <td>11</td>\n",
       "      <td>47.1</td>\n",
       "      <td>391</td>\n",
       "      <td>463</td>\n",
       "      <td>12.4</td>\n",
       "      <td>36.11</td>\n",
       "      <td>166</td>\n",
       "    </tr>\n",
       "    <tr>\n",
       "      <td>San</td>\n",
       "      <td>12</td>\n",
       "      <td>56.7</td>\n",
       "      <td>453</td>\n",
       "      <td>716</td>\n",
       "      <td>8.7</td>\n",
       "      <td>20.66</td>\n",
       "      <td>67</td>\n",
       "    </tr>\n",
       "  </tbody>\n",
       "</table>\n",
       "</div>"
      ],
      "text/plain": [
       "              SO2  Neg,Temp  Empresas  Población  Viento  Precipitación  Dias\n",
       "Wichita         8      56.6       125        277    12.7          30.58    82\n",
       "New             9      68.3       204        361     8.4          56.77   113\n",
       "Dallas          9      66.2       641        844    10.9          35.94    78\n",
       "Miami          10      75.5       207        335     9.0          59.80   128\n",
       "Phoenix        10      70.3       213        582     6.0           7.05    36\n",
       "Memphis        10      61.6       337        624     9.2          49.10   105\n",
       "Houston        10      68.9       721       1233    10.8          48.19   103\n",
       "Alburquerque   11      56.8        46        244     8.9           7.77    58\n",
       "Buffalo        11      47.1       391        463    12.4          36.11   166\n",
       "San            12      56.7       453        716     8.7          20.66    67"
      ]
     },
     "execution_count": 216,
     "metadata": {},
     "output_type": "execute_result"
    }
   ],
   "source": [
    "data.sort_values(by=['SO2',\"Empresas\"],ascending=True).head(10)"
   ]
  },
  {
   "cell_type": "markdown",
   "metadata": {},
   "source": [
    "## Omitir información duplicada\n",
    "Para eliminar filas duplicadas de un DataFrame, usa el método drop_duplicates () del DataFrame."
   ]
  },
  {
   "cell_type": "code",
   "execution_count": 219,
   "metadata": {},
   "outputs": [
    {
     "data": {
      "text/plain": [
       "Phoenix         False\n",
       "Miami           False\n",
       "Memphis         False\n",
       "Houston         False\n",
       "Alburquerque    False\n",
       "dtype: bool"
      ]
     },
     "execution_count": 219,
     "metadata": {},
     "output_type": "execute_result"
    }
   ],
   "source": [
    "    data.duplicated().head()"
   ]
  },
  {
   "cell_type": "code",
   "execution_count": 221,
   "metadata": {},
   "outputs": [
    {
     "data": {
      "text/html": [
       "<div>\n",
       "<style scoped>\n",
       "    .dataframe tbody tr th:only-of-type {\n",
       "        vertical-align: middle;\n",
       "    }\n",
       "\n",
       "    .dataframe tbody tr th {\n",
       "        vertical-align: top;\n",
       "    }\n",
       "\n",
       "    .dataframe thead th {\n",
       "        text-align: right;\n",
       "    }\n",
       "</style>\n",
       "<table border=\"1\" class=\"dataframe\">\n",
       "  <thead>\n",
       "    <tr style=\"text-align: right;\">\n",
       "      <th></th>\n",
       "      <th>SO2</th>\n",
       "      <th>Neg,Temp</th>\n",
       "      <th>Empresas</th>\n",
       "      <th>Población</th>\n",
       "      <th>Viento</th>\n",
       "      <th>Precipitación</th>\n",
       "      <th>Dias</th>\n",
       "    </tr>\n",
       "  </thead>\n",
       "  <tbody>\n",
       "    <tr>\n",
       "      <td>Phoenix</td>\n",
       "      <td>10</td>\n",
       "      <td>70.3</td>\n",
       "      <td>213</td>\n",
       "      <td>582</td>\n",
       "      <td>6.0</td>\n",
       "      <td>7.05</td>\n",
       "      <td>36</td>\n",
       "    </tr>\n",
       "    <tr>\n",
       "      <td>Miami</td>\n",
       "      <td>10</td>\n",
       "      <td>75.5</td>\n",
       "      <td>207</td>\n",
       "      <td>335</td>\n",
       "      <td>9.0</td>\n",
       "      <td>59.80</td>\n",
       "      <td>128</td>\n",
       "    </tr>\n",
       "    <tr>\n",
       "      <td>Memphis</td>\n",
       "      <td>10</td>\n",
       "      <td>61.6</td>\n",
       "      <td>337</td>\n",
       "      <td>624</td>\n",
       "      <td>9.2</td>\n",
       "      <td>49.10</td>\n",
       "      <td>105</td>\n",
       "    </tr>\n",
       "    <tr>\n",
       "      <td>Houston</td>\n",
       "      <td>10</td>\n",
       "      <td>68.9</td>\n",
       "      <td>721</td>\n",
       "      <td>1233</td>\n",
       "      <td>10.8</td>\n",
       "      <td>48.19</td>\n",
       "      <td>103</td>\n",
       "    </tr>\n",
       "    <tr>\n",
       "      <td>Alburquerque</td>\n",
       "      <td>11</td>\n",
       "      <td>56.8</td>\n",
       "      <td>46</td>\n",
       "      <td>244</td>\n",
       "      <td>8.9</td>\n",
       "      <td>7.77</td>\n",
       "      <td>58</td>\n",
       "    </tr>\n",
       "  </tbody>\n",
       "</table>\n",
       "</div>"
      ],
      "text/plain": [
       "              SO2  Neg,Temp  Empresas  Población  Viento  Precipitación  Dias\n",
       "Phoenix        10      70.3       213        582     6.0           7.05    36\n",
       "Miami          10      75.5       207        335     9.0          59.80   128\n",
       "Memphis        10      61.6       337        624     9.2          49.10   105\n",
       "Houston        10      68.9       721       1233    10.8          48.19   103\n",
       "Alburquerque   11      56.8        46        244     8.9           7.77    58"
      ]
     },
     "execution_count": 221,
     "metadata": {},
     "output_type": "execute_result"
    }
   ],
   "source": [
    "data.drop_duplicates().head()"
   ]
  },
  {
   "cell_type": "markdown",
   "metadata": {},
   "source": [
    "## Borrar una columna o una fila"
   ]
  },
  {
   "cell_type": "markdown",
   "metadata": {},
   "source": [
    "Para eliminar una columna o fila completa, podemos usar el método drop () del DataFrame especificando el nombre de la columna o fila."
   ]
  },
  {
   "cell_type": "code",
   "execution_count": 244,
   "metadata": {},
   "outputs": [
    {
     "data": {
      "text/html": [
       "<div>\n",
       "<style scoped>\n",
       "    .dataframe tbody tr th:only-of-type {\n",
       "        vertical-align: middle;\n",
       "    }\n",
       "\n",
       "    .dataframe tbody tr th {\n",
       "        vertical-align: top;\n",
       "    }\n",
       "\n",
       "    .dataframe thead th {\n",
       "        text-align: right;\n",
       "    }\n",
       "</style>\n",
       "<table border=\"1\" class=\"dataframe\">\n",
       "  <thead>\n",
       "    <tr style=\"text-align: right;\">\n",
       "      <th></th>\n",
       "      <th>Empresas</th>\n",
       "      <th>Población</th>\n",
       "      <th>Viento</th>\n",
       "      <th>Precipitación</th>\n",
       "      <th>Dias</th>\n",
       "    </tr>\n",
       "  </thead>\n",
       "  <tbody>\n",
       "    <tr>\n",
       "      <td>Phoenix</td>\n",
       "      <td>213</td>\n",
       "      <td>582</td>\n",
       "      <td>6.0</td>\n",
       "      <td>7.05</td>\n",
       "      <td>36</td>\n",
       "    </tr>\n",
       "    <tr>\n",
       "      <td>Miami</td>\n",
       "      <td>207</td>\n",
       "      <td>335</td>\n",
       "      <td>9.0</td>\n",
       "      <td>59.80</td>\n",
       "      <td>128</td>\n",
       "    </tr>\n",
       "    <tr>\n",
       "      <td>Memphis</td>\n",
       "      <td>337</td>\n",
       "      <td>624</td>\n",
       "      <td>9.2</td>\n",
       "      <td>49.10</td>\n",
       "      <td>105</td>\n",
       "    </tr>\n",
       "    <tr>\n",
       "      <td>Houston</td>\n",
       "      <td>721</td>\n",
       "      <td>1233</td>\n",
       "      <td>10.8</td>\n",
       "      <td>48.19</td>\n",
       "      <td>103</td>\n",
       "    </tr>\n",
       "    <tr>\n",
       "      <td>Alburquerque</td>\n",
       "      <td>46</td>\n",
       "      <td>244</td>\n",
       "      <td>8.9</td>\n",
       "      <td>7.77</td>\n",
       "      <td>58</td>\n",
       "    </tr>\n",
       "  </tbody>\n",
       "</table>\n",
       "</div>"
      ],
      "text/plain": [
       "              Empresas  Población  Viento  Precipitación  Dias\n",
       "Phoenix            213        582     6.0           7.05    36\n",
       "Miami              207        335     9.0          59.80   128\n",
       "Memphis            337        624     9.2          49.10   105\n",
       "Houston            721       1233    10.8          48.19   103\n",
       "Alburquerque        46        244     8.9           7.77    58"
      ]
     },
     "execution_count": 244,
     "metadata": {},
     "output_type": "execute_result"
    }
   ],
   "source": [
    "data.drop(data.columns[0:2],axis=1).head()#Para borrar las columnas  en el indice 0, 1\n"
   ]
  },
  {
   "cell_type": "code",
   "execution_count": 246,
   "metadata": {
    "scrolled": true
   },
   "outputs": [
    {
     "data": {
      "text/html": [
       "<div>\n",
       "<style scoped>\n",
       "    .dataframe tbody tr th:only-of-type {\n",
       "        vertical-align: middle;\n",
       "    }\n",
       "\n",
       "    .dataframe tbody tr th {\n",
       "        vertical-align: top;\n",
       "    }\n",
       "\n",
       "    .dataframe thead th {\n",
       "        text-align: right;\n",
       "    }\n",
       "</style>\n",
       "<table border=\"1\" class=\"dataframe\">\n",
       "  <thead>\n",
       "    <tr style=\"text-align: right;\">\n",
       "      <th></th>\n",
       "      <th>SO2</th>\n",
       "      <th>Neg,Temp</th>\n",
       "      <th>Empresas</th>\n",
       "      <th>Población</th>\n",
       "      <th>Viento</th>\n",
       "      <th>Precipitación</th>\n",
       "      <th>Dias</th>\n",
       "    </tr>\n",
       "  </thead>\n",
       "  <tbody>\n",
       "    <tr>\n",
       "      <td>Memphis</td>\n",
       "      <td>10</td>\n",
       "      <td>61.6</td>\n",
       "      <td>337</td>\n",
       "      <td>624</td>\n",
       "      <td>9.2</td>\n",
       "      <td>49.10</td>\n",
       "      <td>105</td>\n",
       "    </tr>\n",
       "    <tr>\n",
       "      <td>Houston</td>\n",
       "      <td>10</td>\n",
       "      <td>68.9</td>\n",
       "      <td>721</td>\n",
       "      <td>1233</td>\n",
       "      <td>10.8</td>\n",
       "      <td>48.19</td>\n",
       "      <td>103</td>\n",
       "    </tr>\n",
       "    <tr>\n",
       "      <td>Alburquerque</td>\n",
       "      <td>11</td>\n",
       "      <td>56.8</td>\n",
       "      <td>46</td>\n",
       "      <td>244</td>\n",
       "      <td>8.9</td>\n",
       "      <td>7.77</td>\n",
       "      <td>58</td>\n",
       "    </tr>\n",
       "    <tr>\n",
       "      <td>Buffalo</td>\n",
       "      <td>11</td>\n",
       "      <td>47.1</td>\n",
       "      <td>391</td>\n",
       "      <td>463</td>\n",
       "      <td>12.4</td>\n",
       "      <td>36.11</td>\n",
       "      <td>166</td>\n",
       "    </tr>\n",
       "    <tr>\n",
       "      <td>Chicago</td>\n",
       "      <td>110</td>\n",
       "      <td>50.6</td>\n",
       "      <td>3344</td>\n",
       "      <td>3369</td>\n",
       "      <td>10.4</td>\n",
       "      <td>34.44</td>\n",
       "      <td>122</td>\n",
       "    </tr>\n",
       "  </tbody>\n",
       "</table>\n",
       "</div>"
      ],
      "text/plain": [
       "              SO2  Neg,Temp  Empresas  Población  Viento  Precipitación  Dias\n",
       "Memphis        10      61.6       337        624     9.2          49.10   105\n",
       "Houston        10      68.9       721       1233    10.8          48.19   103\n",
       "Alburquerque   11      56.8        46        244     8.9           7.77    58\n",
       "Buffalo        11      47.1       391        463    12.4          36.11   166\n",
       "Chicago       110      50.6      3344       3369    10.4          34.44   122"
      ]
     },
     "execution_count": 246,
     "metadata": {},
     "output_type": "execute_result"
    }
   ],
   "source": [
    "data.drop(data.index[0:2],axis=0).head()#Para borrar las filas   en el indice 0, 1"
   ]
  },
  {
   "cell_type": "markdown",
   "metadata": {},
   "source": [
    "## Resumen de los datos "
   ]
  },
  {
   "cell_type": "code",
   "execution_count": 224,
   "metadata": {},
   "outputs": [
    {
     "data": {
      "text/html": [
       "<div>\n",
       "<style scoped>\n",
       "    .dataframe tbody tr th:only-of-type {\n",
       "        vertical-align: middle;\n",
       "    }\n",
       "\n",
       "    .dataframe tbody tr th {\n",
       "        vertical-align: top;\n",
       "    }\n",
       "\n",
       "    .dataframe thead th {\n",
       "        text-align: right;\n",
       "    }\n",
       "</style>\n",
       "<table border=\"1\" class=\"dataframe\">\n",
       "  <thead>\n",
       "    <tr style=\"text-align: right;\">\n",
       "      <th></th>\n",
       "      <th>SO2</th>\n",
       "      <th>Neg,Temp</th>\n",
       "      <th>Empresas</th>\n",
       "      <th>Población</th>\n",
       "      <th>Viento</th>\n",
       "      <th>Precipitación</th>\n",
       "      <th>Dias</th>\n",
       "    </tr>\n",
       "  </thead>\n",
       "  <tbody>\n",
       "    <tr>\n",
       "      <td>count</td>\n",
       "      <td>41.000000</td>\n",
       "      <td>41.000000</td>\n",
       "      <td>41.000000</td>\n",
       "      <td>41.000000</td>\n",
       "      <td>41.000000</td>\n",
       "      <td>41.000000</td>\n",
       "      <td>41.000000</td>\n",
       "    </tr>\n",
       "    <tr>\n",
       "      <td>mean</td>\n",
       "      <td>30.048780</td>\n",
       "      <td>55.763415</td>\n",
       "      <td>463.097561</td>\n",
       "      <td>608.609756</td>\n",
       "      <td>9.443902</td>\n",
       "      <td>36.769024</td>\n",
       "      <td>113.902439</td>\n",
       "    </tr>\n",
       "    <tr>\n",
       "      <td>std</td>\n",
       "      <td>23.472272</td>\n",
       "      <td>7.227716</td>\n",
       "      <td>563.473948</td>\n",
       "      <td>579.113023</td>\n",
       "      <td>1.428644</td>\n",
       "      <td>11.771550</td>\n",
       "      <td>26.506419</td>\n",
       "    </tr>\n",
       "    <tr>\n",
       "      <td>min</td>\n",
       "      <td>8.000000</td>\n",
       "      <td>43.500000</td>\n",
       "      <td>35.000000</td>\n",
       "      <td>71.000000</td>\n",
       "      <td>6.000000</td>\n",
       "      <td>7.050000</td>\n",
       "      <td>36.000000</td>\n",
       "    </tr>\n",
       "    <tr>\n",
       "      <td>25%</td>\n",
       "      <td>13.000000</td>\n",
       "      <td>50.600000</td>\n",
       "      <td>181.000000</td>\n",
       "      <td>299.000000</td>\n",
       "      <td>8.700000</td>\n",
       "      <td>30.960000</td>\n",
       "      <td>103.000000</td>\n",
       "    </tr>\n",
       "    <tr>\n",
       "      <td>50%</td>\n",
       "      <td>26.000000</td>\n",
       "      <td>54.600000</td>\n",
       "      <td>347.000000</td>\n",
       "      <td>515.000000</td>\n",
       "      <td>9.300000</td>\n",
       "      <td>38.740000</td>\n",
       "      <td>115.000000</td>\n",
       "    </tr>\n",
       "    <tr>\n",
       "      <td>75%</td>\n",
       "      <td>35.000000</td>\n",
       "      <td>59.300000</td>\n",
       "      <td>462.000000</td>\n",
       "      <td>717.000000</td>\n",
       "      <td>10.600000</td>\n",
       "      <td>43.110000</td>\n",
       "      <td>128.000000</td>\n",
       "    </tr>\n",
       "    <tr>\n",
       "      <td>max</td>\n",
       "      <td>110.000000</td>\n",
       "      <td>75.500000</td>\n",
       "      <td>3344.000000</td>\n",
       "      <td>3369.000000</td>\n",
       "      <td>12.700000</td>\n",
       "      <td>59.800000</td>\n",
       "      <td>166.000000</td>\n",
       "    </tr>\n",
       "  </tbody>\n",
       "</table>\n",
       "</div>"
      ],
      "text/plain": [
       "              SO2   Neg,Temp     Empresas    Población     Viento  \\\n",
       "count   41.000000  41.000000    41.000000    41.000000  41.000000   \n",
       "mean    30.048780  55.763415   463.097561   608.609756   9.443902   \n",
       "std     23.472272   7.227716   563.473948   579.113023   1.428644   \n",
       "min      8.000000  43.500000    35.000000    71.000000   6.000000   \n",
       "25%     13.000000  50.600000   181.000000   299.000000   8.700000   \n",
       "50%     26.000000  54.600000   347.000000   515.000000   9.300000   \n",
       "75%     35.000000  59.300000   462.000000   717.000000  10.600000   \n",
       "max    110.000000  75.500000  3344.000000  3369.000000  12.700000   \n",
       "\n",
       "       Precipitación        Dias  \n",
       "count      41.000000   41.000000  \n",
       "mean       36.769024  113.902439  \n",
       "std        11.771550   26.506419  \n",
       "min         7.050000   36.000000  \n",
       "25%        30.960000  103.000000  \n",
       "50%        38.740000  115.000000  \n",
       "75%        43.110000  128.000000  \n",
       "max        59.800000  166.000000  "
      ]
     },
     "execution_count": 224,
     "metadata": {},
     "output_type": "execute_result"
    }
   ],
   "source": [
    "data.describe()"
   ]
  },
  {
   "cell_type": "code",
   "execution_count": 250,
   "metadata": {},
   "outputs": [
    {
     "data": {
      "text/plain": [
       "30.048780487804876"
      ]
     },
     "execution_count": 250,
     "metadata": {},
     "output_type": "execute_result"
    }
   ],
   "source": [
    "data[\"SO2\"].mean()"
   ]
  },
  {
   "cell_type": "markdown",
   "metadata": {},
   "source": [
    "## Estructuras de control de flujo condicionales para filtrar información"
   ]
  },
  {
   "cell_type": "markdown",
   "metadata": {},
   "source": [
    "Las estructuras de control condicionales, son aquellas que nos permiten evaluar si una o más condiciones se cumplen, para decir qué acción vamos a ejecutar. La evaluación de condiciones, solo puede arrojar 1 de 2 resultados: verdadero o falso (True o False)."
   ]
  },
  {
   "cell_type": "markdown",
   "metadata": {},
   "source": [
    "|**Símbolo**|\t**Significado**|\t**Ejemplo**|\t**Resultado**|\n",
    "|:---:|:---:|:---:|:---:|\n",
    "| `==`|\tIgual que|\t5 `==`7\t|False|\n",
    "|`!=`\t|Distinto que|\trojo `!=` verde|\tTrue|\n",
    "|`<`|\tMenor que|\t8 `<` 12|\tTrue|\n",
    "|`>`|\tMayor que|\t12 `>` 7|\tTrue|\n",
    "|`<=`|Menor o igual que|\t12 `<=` 12|\tTrue|\n",
    "|`>=`|\tMayor o igual que|\t4 `>= 5`|\tFalse|"
   ]
  },
  {
   "cell_type": "markdown",
   "metadata": {},
   "source": [
    "Si es necesario realizar un filtro de un Data.Frame es posible usando estas condiciones."
   ]
  },
  {
   "cell_type": "markdown",
   "metadata": {},
   "source": [
    "### Ejemplo\n",
    "Para la base de datos data deseamos hacer un filtro para ver los estados con valores de SO2 menores a 10"
   ]
  },
  {
   "cell_type": "code",
   "execution_count": 253,
   "metadata": {},
   "outputs": [
    {
     "name": "stdout",
     "output_type": "stream",
     "text": [
      "         SO2  Neg,Temp  Empresas  Población  Viento  Precipitación  Dias\n",
      "Wichita    8      56.6       125        277    12.7          30.58    82\n",
      "Dallas     9      66.2       641        844    10.9          35.94    78\n",
      "New        9      68.3       204        361     8.4          56.77   113\n"
     ]
    }
   ],
   "source": [
    "Datafiltrada = data[data[\"SO2\"] < 10]\n",
    "print(Datafiltrada)"
   ]
  },
  {
   "cell_type": "markdown",
   "metadata": {},
   "source": [
    "Es posible crear condiciones múltiples en una misma instrucción, para evaluar más de una condición simultáneamente, se utilizan operadores lógicos:\n",
    "\n",
    "\n",
    "\n",
    "\n",
    "|Operador|\tEjemplo\t|Explicación\t|Resultado|\n",
    "| :---: | :---: | :---: | :---: |\n",
    "|`&`|\t5 `==` 7 and 7 `<` 12\t|False and False|\tFalse|\n",
    "|`&`|\t9 `<` 12 and 12 `>` 7\t|True and True|\tTrue|\n",
    "|`&`|\t9 `<` 12 and 12 `>` 15\t|True and False|\tFalse|\n",
    "|` \\| ` |\t12 `==` 12 or 15 `<` 7\t|True or False|\tTrue|\n",
    "|` \\| ` |\t7 `>` 5 or 9 `<` 12\t|True or True|\tTrue|\n",
    "|`^`|\t4 `==` 4 xor 9 `>` 3\t|True o True|\tFalse|\n",
    "|`^`|\t4 `==` 4 xor 9 `<` 3\t|True o False|\tTrue|\n",
    "\n",
    "### Ejemplo \n",
    "Para la base de datos data deseamos hacer un filtro para ver los estados con valores de SO2 menores a 10 y con viento mayor a 10."
   ]
  },
  {
   "cell_type": "code",
   "execution_count": 279,
   "metadata": {},
   "outputs": [
    {
     "name": "stdout",
     "output_type": "stream",
     "text": [
      "                 SO2  Neg,Temp  Empresas  Población  Viento  Precipitación  \\\n",
      "Houston           10      68.9       721       1233    10.8          48.19   \n",
      "Buffalo           11      47.1       391        463    12.4          36.11   \n",
      "Chicago          110      50.6      3344       3369    10.4          34.44   \n",
      "Omaha             14      51.5       181        347    10.9          30.18   \n",
      "Milwaukee         16      45.7       569        717    11.8          29.07   \n",
      "Norfolk           31      59.3        96        308    10.6          44.68   \n",
      "Detroit           35      49.9      1064       1513    10.1          30.96   \n",
      "Cleveland         65      49.7      1007        751    10.9          34.99   \n",
      "Wichita            8      56.6       125        277    12.7          30.58   \n",
      "Dallas             9      66.2       641        844    10.9          35.94   \n",
      "Providence        94      50.0       343        179    10.6          42.75   \n",
      "Des               17      49.0       104        201    11.2          30.85   \n",
      "New                9      68.3       204        361     8.4          56.77   \n",
      "Minneapolis-St,   29      43.5       699        744    10.6          25.94   \n",
      "\n",
      "                 Dias  \n",
      "Houston           103  \n",
      "Buffalo           166  \n",
      "Chicago           122  \n",
      "Omaha              98  \n",
      "Milwaukee         123  \n",
      "Norfolk           116  \n",
      "Detroit           129  \n",
      "Cleveland         155  \n",
      "Wichita            82  \n",
      "Dallas             78  \n",
      "Providence        125  \n",
      "Des               103  \n",
      "New               113  \n",
      "Minneapolis-St,   137  \n"
     ]
    }
   ],
   "source": [
    "Datafiltrada2 = data[(data[\"SO2\"] < 10) | (data[\"Viento\"]>10)]\n",
    "print(Datafiltrada2)"
   ]
  },
  {
   "cell_type": "markdown",
   "metadata": {},
   "source": [
    "## Exportar bases \n",
    "para esto es necesario instalar el modulo openpyxl"
   ]
  },
  {
   "cell_type": "code",
   "execution_count": 283,
   "metadata": {},
   "outputs": [
    {
     "name": "stdout",
     "output_type": "stream",
     "text": [
      "Requirement already satisfied: openpyxl in c:\\users\\antonino\\anaconda3\\ana\\lib\\site-packages (3.0.0)\n",
      "Requirement already satisfied: jdcal in c:\\users\\antonino\\anaconda3\\ana\\lib\\site-packages (from openpyxl) (1.4.1)\n",
      "Requirement already satisfied: et-xmlfile in c:\\users\\antonino\\anaconda3\\ana\\lib\\site-packages (from openpyxl) (1.0.1)\n"
     ]
    }
   ],
   "source": [
    "!pip install openpyxl\n",
    "import openpyxl"
   ]
  },
  {
   "cell_type": "code",
   "execution_count": null,
   "metadata": {},
   "outputs": [],
   "source": [
    "usamos el comando to.excel para exportar la base de datos resultante"
   ]
  },
  {
   "cell_type": "code",
   "execution_count": 285,
   "metadata": {},
   "outputs": [],
   "source": [
    "Datafiltrada2.to_excel(\"pandasExcel.xlsx\", \"Sheet1\")"
   ]
  },
  {
   "cell_type": "markdown",
   "metadata": {},
   "source": [
    "## Ejercicio\n",
    "\n",
    "Para la base de datos Craneos.csv\n",
    "\n",
    "1. Cargue la base \n",
    "2. Elimine la primera columna y a los últimos 10 individuos.\n",
    "3. Cambie el nombre de la variable \"Anchura.Cara\" a \"Anchuro.Cara\"\n",
    "4. Filtre a los individuos que cumplan con:\n",
    " a.Longitud menor o igual a 13 o anchura mayor a 13\n",
    " b. Tipo=R1.\n",
    "Asigne los resultados a un objeto llamado craneos.a para el literal a y craneos.b para el literal b\n",
    "5. Encuentre las medidas resumen  de los objetos craneos.a y craneos.b"
   ]
  },
  {
   "cell_type": "code",
   "execution_count": null,
   "metadata": {},
   "outputs": [],
   "source": []
  }
 ],
 "metadata": {
  "kernelspec": {
   "display_name": "Python 3",
   "language": "python",
   "name": "python3"
  },
  "language_info": {
   "codemirror_mode": {
    "name": "ipython",
    "version": 3
   },
   "file_extension": ".py",
   "mimetype": "text/x-python",
   "name": "python",
   "nbconvert_exporter": "python",
   "pygments_lexer": "ipython3",
   "version": "3.7.4"
  }
 },
 "nbformat": 4,
 "nbformat_minor": 4
}
