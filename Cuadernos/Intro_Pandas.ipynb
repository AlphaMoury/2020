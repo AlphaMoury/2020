{
 "cells": [
  {
   "cell_type": "markdown",
   "metadata": {},
   "source": [
    "# Introducción a funciones en Python y al paquete Pandas\n",
    "\n",
    "**Universidad Central**\n",
    "\n",
    "*Carlos Zainea, Daniel Montenegro y Luis Campos*"
   ]
  },
  {
   "cell_type": "markdown",
   "metadata": {},
   "source": [
    "Uno de los paquetes fundamentales y más usados para el análisis de datos es [pandas](https://pandas.pydata.org/pandas-docs/stable/getting_started/index.html), una biblioteca de software que ofrece la posibilidad de estructurar y explorar colecciones de datos de forma rapida y sencilla caracterizado por la fluidez en diversas funciones.\n",
    "\n",
    "Usaremos este paquete para extraer información importante de la base [Predios2016](https://www.dropbox.com/s/smuouwv4pzcvdk7/Predio2016.csv?dl=0) que contiene alrededor de 2.5 millones de registros con 22 características.\n",
    "\n",
    "\n",
    "Iniciamos importando los paquetes:"
   ]
  },
  {
   "cell_type": "code",
   "execution_count": null,
   "metadata": {
    "ExecuteTime": {
     "end_time": "2020-01-27T23:28:35.955336Z",
     "start_time": "2020-01-27T23:28:35.728400Z"
    }
   },
   "outputs": [],
   "source": [
    "import numpy as np\n",
    "import pandas as pd\n",
    "import scipy as sp "
   ]
  },
  {
   "cell_type": "markdown",
   "metadata": {},
   "source": [
    "## Funciones básicas de pandas\n",
    "\n",
    "Lo primero que debemos tener en cuenta es que la libreria pandas admite dos tipos de arreglos de datos, las series que expresan un arreglo lineal de información y los marcos de datos (DataFrames), que  corresponden a colecciones de series. Veamos a continuación algunos ejemplos:"
   ]
  },
  {
   "cell_type": "markdown",
   "metadata": {},
   "source": [
    "## Series\n",
    "\n",
    "A continuación listamos los valores [1, 3, 5, nan, 6, 8] y lo asignamos a la variable s usando pandas:"
   ]
  },
  {
   "cell_type": "code",
   "execution_count": null,
   "metadata": {
    "ExecuteTime": {
     "end_time": "2020-01-27T23:29:43.997943Z",
     "start_time": "2020-01-27T23:29:43.986914Z"
    }
   },
   "outputs": [],
   "source": [
    "s = pd.Series([1, 3, 5, np.nan, 6, 8])\n",
    "print(\"Mi serie es:\\n\")\n",
    "print(s)"
   ]
  },
  {
   "cell_type": "markdown",
   "metadata": {},
   "source": [
    "## Dataframe\n",
    "\n",
    " Podemos crear un DataFrame a partir de diferentes tipos de datos. Para esto., debemos nombrar las variables y los individuos para representarlo más informativamente.\n",
    " \n",
    " **Ejemplo:**"
   ]
  },
  {
   "cell_type": "code",
   "execution_count": null,
   "metadata": {
    "ExecuteTime": {
     "end_time": "2020-01-27T23:37:49.618659Z",
     "start_time": "2020-01-27T23:37:49.613642Z"
    }
   },
   "outputs": [],
   "source": [
    "# Individuos (Fechas)\n",
    "# M = Month end Frequency \n",
    "dates = pd.date_range('20130101', periods=6,freq='M')"
   ]
  },
  {
   "cell_type": "code",
   "execution_count": null,
   "metadata": {
    "ExecuteTime": {
     "end_time": "2020-01-27T23:37:50.608325Z",
     "start_time": "2020-01-27T23:37:50.604533Z"
    }
   },
   "outputs": [],
   "source": [
    "# Showing horizontally\n",
    "print(dates)\n",
    "print(\"\\n Showing Vertically:\\n\")\n",
    "\n",
    "# Showing Vertically\n",
    "for date in dates:\n",
    "    print(date)"
   ]
  },
  {
   "cell_type": "markdown",
   "metadata": {},
   "source": [
    "Hagamos un proceso de **simulación**. \n",
    "\n",
    "Para esto, inventamos algunos datos al azar..."
   ]
  },
  {
   "cell_type": "code",
   "execution_count": null,
   "metadata": {
    "ExecuteTime": {
     "end_time": "2020-01-27T23:42:22.530002Z",
     "start_time": "2020-01-27T23:42:22.525731Z"
    }
   },
   "outputs": [],
   "source": [
    "A=np.random.randn(6, 4)\n",
    "print(A)"
   ]
  },
  {
   "cell_type": "markdown",
   "metadata": {},
   "source": [
    "Ahora, nos inventamos los **nombres de las variables**..."
   ]
  },
  {
   "cell_type": "code",
   "execution_count": null,
   "metadata": {
    "ExecuteTime": {
     "end_time": "2020-01-27T23:44:06.610046Z",
     "start_time": "2020-01-27T23:44:06.605989Z"
    }
   },
   "outputs": [],
   "source": [
    "variables=list(\"ABCD\")"
   ]
  },
  {
   "cell_type": "markdown",
   "metadata": {},
   "source": [
    "Finalmente, podemos concatenar toda esta **información** en un DataFrame:"
   ]
  },
  {
   "cell_type": "code",
   "execution_count": null,
   "metadata": {
    "ExecuteTime": {
     "end_time": "2020-01-27T23:44:44.979872Z",
     "start_time": "2020-01-27T23:44:44.975506Z"
    }
   },
   "outputs": [],
   "source": [
    "df = pd.DataFrame(A, index=dates, columns=variables)"
   ]
  },
  {
   "cell_type": "code",
   "execution_count": null,
   "metadata": {
    "ExecuteTime": {
     "end_time": "2020-01-27T23:44:59.208000Z",
     "start_time": "2020-01-27T23:44:59.193192Z"
    }
   },
   "outputs": [],
   "source": [
    "df"
   ]
  },
  {
   "cell_type": "markdown",
   "metadata": {},
   "source": [
    "## Números de números\n",
    "\n",
    "### Números triangulares\n",
    "\n",
    "Incluso podemos crear más series de datos, aprovechemos los bucles para crear más, quizas la serie de los primeros 100 números triangulares.\n",
    "\n",
    "> *Un número triangular corresponde a la cantidad de puntos que componen a un triángulo equilatero. Según el siguiente gráfico es facil ver que se obtiene a partir de la suma de los números naturales anteriores a un valor $n$ dado.\n",
    "![Triangularnumbers](https://study.com/cimages/multimages/16/374px-first_six_triangular_numbers.svg.png)\n",
    "\n",
    "Usando `for` es fácil encontrar estos números pues $T_n=1+2+3+\\cdots+(n-1)+n$, luego el siguiente código permitira ubicar los números triangulares en una lista:\n"
   ]
  },
  {
   "cell_type": "code",
   "execution_count": null,
   "metadata": {
    "ExecuteTime": {
     "end_time": "2020-01-27T23:53:42.393760Z",
     "start_time": "2020-01-27T23:53:42.382016Z"
    }
   },
   "outputs": [],
   "source": [
    "T=[] #Creamos una lista vacía\n",
    "t=0 #Este valor guardará temporalmente el número triangular\n",
    "for i in range(101): #Observe que range(100) es la lista de valores [0,1,...,99], el comando for toma elementos de una lista.\n",
    "    t=t+i\n",
    "    T.append(t)\n",
    "print(T)"
   ]
  },
  {
   "cell_type": "code",
   "execution_count": null,
   "metadata": {
    "ExecuteTime": {
     "end_time": "2020-01-27T20:03:23.529278Z",
     "start_time": "2020-01-27T20:03:23.524791Z"
    }
   },
   "outputs": [],
   "source": [
    "# Mostrar solo algunos datos de T\n",
    "T[:15] "
   ]
  },
  {
   "cell_type": "code",
   "execution_count": null,
   "metadata": {
    "ExecuteTime": {
     "end_time": "2020-01-28T00:05:41.642698Z",
     "start_time": "2020-01-28T00:05:41.636725Z"
    }
   },
   "outputs": [],
   "source": [
    "Tver=[] #Creamos una lista vacía\n",
    "t=0 #Este valor guardará temporalmente el número triangular\n",
    "for n in range(101): \n",
    "    t=(n+1)*n/2\n",
    "    Tver.append(t)\n",
    "print(Tver)"
   ]
  },
  {
   "cell_type": "code",
   "execution_count": null,
   "metadata": {
    "ExecuteTime": {
     "end_time": "2020-01-28T00:18:42.900335Z",
     "start_time": "2020-01-28T00:18:42.896729Z"
    }
   },
   "outputs": [],
   "source": [
    "F=[1] #Creamos una lista vacía\n",
    "f=1 #Este valor guardará temporalmente el número triangular\n",
    "for i in range(1,101): #Observe que range(100) es la lista de valores [0,1,...,99], el comando for toma elementos de una lista.\n",
    "    f=f*i\n",
    "    F.append(f)\n",
    "print(F)"
   ]
  },
  {
   "cell_type": "code",
   "execution_count": null,
   "metadata": {
    "ExecuteTime": {
     "end_time": "2020-01-28T00:25:00.934157Z",
     "start_time": "2020-01-28T00:25:00.929855Z"
    }
   },
   "outputs": [],
   "source": [
    "Fib=[1,1] #Creamos una lista vacía\n",
    "for i in range(2,101):\n",
    "    t=Fib[i-1]+Fib[i-2]\n",
    "    Fib.append(t)\n",
    "print(Fib)"
   ]
  },
  {
   "cell_type": "code",
   "execution_count": null,
   "metadata": {
    "ExecuteTime": {
     "end_time": "2020-01-28T00:32:10.269026Z",
     "start_time": "2020-01-28T00:32:10.264336Z"
    }
   },
   "outputs": [],
   "source": [
    "BaseNumeros=pd.DataFrame({'Triangulares':T,\n",
    "                         'Verificación':Tver,\n",
    "                         'Fibonacci':Fib,\n",
    "                         'molestar':22,\n",
    "                         'Factorial':F})"
   ]
  },
  {
   "cell_type": "code",
   "execution_count": null,
   "metadata": {
    "ExecuteTime": {
     "end_time": "2020-01-28T00:32:11.734045Z",
     "start_time": "2020-01-28T00:32:11.709568Z"
    }
   },
   "outputs": [],
   "source": [
    "BaseNumeros"
   ]
  },
  {
   "cell_type": "markdown",
   "metadata": {},
   "source": [
    "## Pandas y la carga de datos\n",
    "Después de cargar pandas configuramos la opción que nos permita ver todas las columnas de nuestra base de datos:"
   ]
  },
  {
   "cell_type": "code",
   "execution_count": null,
   "metadata": {
    "ExecuteTime": {
     "end_time": "2020-01-27T19:32:24.786051Z",
     "start_time": "2020-01-27T19:32:24.783402Z"
    }
   },
   "outputs": [],
   "source": [
    "pd.set_option('display.max_columns', None)"
   ]
  },
  {
   "cell_type": "markdown",
   "metadata": {},
   "source": [
    "La función [set_option de pandas](https://pandas.pydata.org/pandas-docs/stable/user_guide/options.html) nos permite personalizar la vista de los datos en la consola de salida. Podemos establecer a cantidad de columnas o filas que apareceran en el output de la celda que presente el DataFrame que guardamos. "
   ]
  },
  {
   "cell_type": "markdown",
   "metadata": {},
   "source": [
    "# Ejemplo Juguete\n",
    "\n",
    "hagamos una primera base de datos usando pandas. Supongamos que podemos medir la velocidad de ciertos animales que vemos pasar en el aire. vemos dos águilas y dos loros a diferentes velocidad que registramos en un papel.\n",
    "\n",
    "| Animal | Max Speed |\n",
    "| -------| --------- |\n",
    "| Falcon |   380     |\n",
    "| Falcon |   370     |\n",
    "| Parrot | 24  |\n",
    "| Parrot | 26  |\n",
    "\n",
    "Si queremos colocar dichos datos en un **DataFrame** de pandas, el procedimiento es el siguiente:"
   ]
  },
  {
   "cell_type": "code",
   "execution_count": null,
   "metadata": {},
   "outputs": [],
   "source": [
    "import pandas as pd\n",
    "\n",
    "df = pd.DataFrame({'Animal': ['Falcon', 'Parrot','Falcon', 'Parrot'],\n",
    "                'Max Speed': [380., 24., 370., 26.]})\n",
    "\n",
    "df\n",
    "#print(df) # Look for the differences in the outputs"
   ]
  },
  {
   "cell_type": "markdown",
   "metadata": {},
   "source": [
    "Ahora podemos **jugar con los datos**, es decir, podemos organizarlos y hacer cálculos con ellos que sean de nuestro interes:\n",
    "\n",
    "**Ejemplo:**"
   ]
  },
  {
   "cell_type": "code",
   "execution_count": null,
   "metadata": {},
   "outputs": [],
   "source": [
    "df.groupby(['Animal'])"
   ]
  },
  {
   "cell_type": "markdown",
   "metadata": {},
   "source": [
    "Como podemos ver (o más bien, no podemos), **groupby** no genera un DataFame como tal, sino un objeto **DataFrameGroupBy**, que contiene información sobre los grupos, pero nada más.\n",
    "\n",
    "Esto quiere decir, que si queremos información detallada, debemos aplicar alguna operación a dicha agrupación:"
   ]
  },
  {
   "cell_type": "code",
   "execution_count": null,
   "metadata": {},
   "outputs": [],
   "source": [
    "df_proc=df.groupby(['Animal']).mean()\n",
    "df_proc"
   ]
  },
  {
   "cell_type": "markdown",
   "metadata": {},
   "source": [
    "# Bases de Datos serias:\n",
    "\n",
    "La siguiente celda de código carga los datos del archivo `Predios2016.csv` usando la función [`pd.read_csv`]() observe que en la declaración de carga de datos indico la separación en csv"
   ]
  },
  {
   "cell_type": "code",
   "execution_count": null,
   "metadata": {
    "ExecuteTime": {
     "end_time": "2020-01-28T00:53:45.353658Z",
     "start_time": "2020-01-28T00:53:35.080284Z"
    }
   },
   "outputs": [],
   "source": [
    "df = pd.read_csv('Predio2016.csv',sep=',',low_memory=False)"
   ]
  },
  {
   "cell_type": "markdown",
   "metadata": {},
   "source": [
    "Antes de cualquier cosa, verifiquemos el **tamaño de los datos**:"
   ]
  },
  {
   "cell_type": "code",
   "execution_count": null,
   "metadata": {},
   "outputs": [],
   "source": [
    "print(\"En total, hay \"+\"{:,}\".format(len(df))+\" registros\")\n",
    "print(\"La dimensión de la base de datos es: \", df.shape)"
   ]
  },
  {
   "cell_type": "markdown",
   "metadata": {},
   "source": [
    "¿Cómo se hace esto? <a href = \"https://mkaz.blog/code/python-string-format-cookbook/ \"> Mira aquí</a>.\n",
    "\n",
    "Vaya que es **\"grande\"** ésta base.\n",
    "\n",
    "Analicemos algunas propiedades básicas:"
   ]
  },
  {
   "cell_type": "markdown",
   "metadata": {},
   "source": [
    "## Propiedades principales de la BSD:\n",
    "\n",
    "### Cabezales"
   ]
  },
  {
   "cell_type": "code",
   "execution_count": null,
   "metadata": {},
   "outputs": [],
   "source": [
    "# Cabezal de la base de datos... No aporta mucha información\n",
    "df.head(10)"
   ]
  },
  {
   "cell_type": "markdown",
   "metadata": {},
   "source": [
    "### Colas"
   ]
  },
  {
   "cell_type": "code",
   "execution_count": null,
   "metadata": {
    "ExecuteTime": {
     "end_time": "2020-01-28T00:57:37.729618Z",
     "start_time": "2020-01-28T00:57:37.702444Z"
    }
   },
   "outputs": [],
   "source": [
    "df.tail()"
   ]
  },
  {
   "cell_type": "markdown",
   "metadata": {},
   "source": [
    "Podemos por ejemplo, sacar una **muestra aleatoria** de dicha base para darnos una idea de lo que contiene:"
   ]
  },
  {
   "cell_type": "markdown",
   "metadata": {},
   "source": [
    "### Muestreo"
   ]
  },
  {
   "cell_type": "code",
   "execution_count": null,
   "metadata": {},
   "outputs": [],
   "source": [
    "df.sample(10)"
   ]
  },
  {
   "cell_type": "markdown",
   "metadata": {},
   "source": [
    "### Nombres de las variables"
   ]
  },
  {
   "cell_type": "code",
   "execution_count": null,
   "metadata": {
    "ExecuteTime": {
     "end_time": "2020-01-28T00:54:49.871293Z",
     "start_time": "2020-01-28T00:54:49.866812Z"
    }
   },
   "outputs": [],
   "source": [
    "df.columns"
   ]
  },
  {
   "cell_type": "markdown",
   "metadata": {},
   "source": [
    "### Tipos de Datos"
   ]
  },
  {
   "cell_type": "code",
   "execution_count": null,
   "metadata": {
    "ExecuteTime": {
     "end_time": "2020-01-28T00:56:13.449749Z",
     "start_time": "2020-01-28T00:56:13.437454Z"
    }
   },
   "outputs": [],
   "source": [
    "df.dtypes"
   ]
  },
  {
   "cell_type": "markdown",
   "metadata": {},
   "source": [
    "### Información General"
   ]
  },
  {
   "cell_type": "code",
   "execution_count": null,
   "metadata": {
    "ExecuteTime": {
     "end_time": "2020-01-28T00:58:28.917945Z",
     "start_time": "2020-01-28T00:58:27.990932Z"
    }
   },
   "outputs": [],
   "source": [
    "# Basic Statistics\n",
    "df.describe()"
   ]
  },
  {
   "cell_type": "markdown",
   "metadata": {},
   "source": [
    "### Filtros por Variables"
   ]
  },
  {
   "cell_type": "code",
   "execution_count": null,
   "metadata": {
    "ExecuteTime": {
     "end_time": "2020-01-28T01:03:55.121751Z",
     "start_time": "2020-01-28T01:03:55.069280Z"
    }
   },
   "outputs": [],
   "source": [
    "df[[\"CHIP\",\"NOMBRE_BARRIO\"]]"
   ]
  },
  {
   "cell_type": "markdown",
   "metadata": {},
   "source": [
    "## Conteo de barrios"
   ]
  },
  {
   "cell_type": "code",
   "execution_count": null,
   "metadata": {
    "ExecuteTime": {
     "end_time": "2020-01-28T01:07:29.998085Z",
     "start_time": "2020-01-28T01:07:29.783091Z"
    }
   },
   "outputs": [],
   "source": [
    "df.groupby('NOMBRE_BARRIO').head()"
   ]
  },
  {
   "cell_type": "code",
   "execution_count": null,
   "metadata": {
    "ExecuteTime": {
     "end_time": "2020-01-28T01:08:57.191094Z",
     "start_time": "2020-01-28T01:08:57.020791Z"
    }
   },
   "outputs": [],
   "source": [
    "df.groupby('NOMBRE_BARRIO')[\"CHIP\"].head()"
   ]
  },
  {
   "cell_type": "code",
   "execution_count": null,
   "metadata": {
    "ExecuteTime": {
     "end_time": "2020-01-28T01:09:24.334075Z",
     "start_time": "2020-01-28T01:09:24.141035Z"
    }
   },
   "outputs": [],
   "source": [
    "bar=df.groupby('NOMBRE_BARRIO')[\"CHIP\"].count()"
   ]
  },
  {
   "cell_type": "code",
   "execution_count": null,
   "metadata": {
    "ExecuteTime": {
     "end_time": "2020-01-28T01:09:25.141784Z",
     "start_time": "2020-01-28T01:09:25.128534Z"
    }
   },
   "outputs": [],
   "source": [
    "print(bar)"
   ]
  },
  {
   "cell_type": "code",
   "execution_count": null,
   "metadata": {
    "ExecuteTime": {
     "end_time": "2020-01-28T01:12:30.290665Z",
     "start_time": "2020-01-28T01:12:30.285262Z"
    }
   },
   "outputs": [],
   "source": [
    "def f(x):\n",
    "     return pd.Series(dict(Cantidad = x['CHIP'].count() \n",
    "                        ))"
   ]
  },
  {
   "cell_type": "code",
   "execution_count": null,
   "metadata": {
    "ExecuteTime": {
     "end_time": "2020-01-28T01:16:09.404582Z",
     "start_time": "2020-01-28T01:16:08.439815Z"
    }
   },
   "outputs": [],
   "source": [
    "cb=df.groupby('NOMBRE_BARRIO').apply(f)"
   ]
  },
  {
   "cell_type": "code",
   "execution_count": null,
   "metadata": {
    "ExecuteTime": {
     "end_time": "2020-01-28T01:16:09.414582Z",
     "start_time": "2020-01-28T01:16:09.406101Z"
    }
   },
   "outputs": [],
   "source": [
    "cb"
   ]
  },
  {
   "cell_type": "code",
   "execution_count": null,
   "metadata": {
    "ExecuteTime": {
     "end_time": "2020-01-28T01:16:29.939710Z",
     "start_time": "2020-01-28T01:16:29.930002Z"
    }
   },
   "outputs": [],
   "source": [
    "cb.to_csv('prediosporbarrio.csv')"
   ]
  },
  {
   "cell_type": "markdown",
   "metadata": {},
   "source": [
    "## Barrios Grandes"
   ]
  },
  {
   "cell_type": "code",
   "execution_count": null,
   "metadata": {
    "ExecuteTime": {
     "end_time": "2020-01-28T01:18:11.385302Z",
     "start_time": "2020-01-28T01:18:11.381582Z"
    }
   },
   "outputs": [],
   "source": [
    "BarriosGrandes = cb[cb['Cantidad']>10000]"
   ]
  },
  {
   "cell_type": "markdown",
   "metadata": {},
   "source": [
    "De esto, podemos obtener los 10 muy grandes en tamaño:"
   ]
  },
  {
   "cell_type": "code",
   "execution_count": null,
   "metadata": {
    "ExecuteTime": {
     "end_time": "2020-01-28T01:18:14.185677Z",
     "start_time": "2020-01-28T01:18:14.176831Z"
    }
   },
   "outputs": [],
   "source": [
    "BarriosGrandes.head()"
   ]
  },
  {
   "cell_type": "code",
   "execution_count": null,
   "metadata": {
    "ExecuteTime": {
     "end_time": "2020-01-28T01:20:57.477084Z",
     "start_time": "2020-01-28T01:20:57.471257Z"
    }
   },
   "outputs": [],
   "source": [
    "len(BarriosGrandes)"
   ]
  },
  {
   "cell_type": "code",
   "execution_count": null,
   "metadata": {
    "ExecuteTime": {
     "end_time": "2020-01-28T01:21:15.415068Z",
     "start_time": "2020-01-28T01:21:15.392767Z"
    }
   },
   "outputs": [],
   "source": [
    "pd.DataFrame.sort_index(BarriosGrandes).head()"
   ]
  }
 ],
 "metadata": {
  "kernelspec": {
   "display_name": "Python 3",
   "language": "python",
   "name": "python3"
  },
  "language_info": {
   "codemirror_mode": {
    "name": "ipython",
    "version": 3
   },
   "file_extension": ".py",
   "mimetype": "text/x-python",
   "name": "python",
   "nbconvert_exporter": "python",
   "pygments_lexer": "ipython3",
   "version": "3.7.6"
  },
  "latex_envs": {
   "LaTeX_envs_menu_present": true,
   "autoclose": true,
   "autocomplete": true,
   "bibliofile": "biblio.bib",
   "cite_by": "apalike",
   "current_citInitial": 1,
   "eqLabelWithNumbers": true,
   "eqNumInitial": 1,
   "hotkeys": {
    "equation": "Ctrl-E",
    "itemize": "Ctrl-I"
   },
   "labels_anchors": false,
   "latex_user_defs": false,
   "report_style_numbering": false,
   "user_envs_cfg": true
  },
  "toc": {
   "base_numbering": 1,
   "nav_menu": {},
   "number_sections": false,
   "sideBar": true,
   "skip_h1_title": false,
   "title_cell": "Table of Contents",
   "title_sidebar": "Contents",
   "toc_cell": false,
   "toc_position": {},
   "toc_section_display": true,
   "toc_window_display": false
  }
 },
 "nbformat": 4,
 "nbformat_minor": 4
}
