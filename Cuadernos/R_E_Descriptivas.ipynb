{
 "cells": [
  {
   "cell_type": "markdown",
   "metadata": {},
   "source": [
    "<h1><center><span class=\"header-section-number\"> R1</span> Estadística Descriptiva con R<br />\n",
    "Introducción a tidyverse </center></h1>"
   ]
  },
  {
   "cell_type": "markdown",
   "metadata": {},
   "source": [
    "<h2><span class=\"header-section-number\">R1.1  </span>Introducción </h2>\n",
    "\n",
    "En este módulo aprenderemos como calcular estadísticas y gráficos descriptivos usando R\n",
    "\n",
    "Primero instalamos *tidyverse*.\n",
    "\n",
    "*tidyverse* es una colección  de paquetes R diseñados para la ciencia de datos. Todos los paquetes comparten una filosofía de diseño, gramática y estructuras de datos subyacentes.\n",
    "\n",
    "Instale el tidyverse completo con:\n",
    "\n",
    "        install.packages (\"tidyverse\")\n",
    "        \n",
    "Para una introducción a ciencia de datos usando R vaya a <a href=\"https://www.tidyverse.org/\">tidyverse.org</a>.\n",
    "Para actualizar los paquetes de su instalación use el comando:\n",
    "\n",
    "        update.packages()\n",
    "Por defecto R le prguntará por cada paquete para instalar por cada paquete que puede ser actualizdo. Si no desea esto escriba\n",
    "\n",
    "        update.packages(ask = FALSE)\n",
    "        \n",
    "*tidyverse* incluye *ggplot2*, *dplyr*, *tibble*, *tidyr*, *readr*, *purr*.\n",
    "\n",
    "Los datos de esta lección viene incluidos en la librería (paquete) *dplyr*. Al cargar la librería, los datos estáran disponibles. Para una lista completa de los conjuntos de datos disponibles use el comando\n",
    "\n",
    "        data()\n",
    "Pida ayuda  con\n",
    "\n",
    "        ?data\n",
    "        \n",
    "para los detalles del comando."
   ]
  },
  {
   "cell_type": "code",
   "execution_count": null,
   "metadata": {},
   "outputs": [],
   "source": [
    "# instala tidyverse\n",
    "#\n",
    "install.packages(\"tidyverse\")\n",
    "#\n",
    "# "
   ]
  },
  {
   "cell_type": "markdown",
   "metadata": {},
   "source": [
    "<h2><span class=\"header-section-number\">R1.2  </span>Encadenando funciones. Operador de entubamiento (pipe) %>% </h2>\n",
    "\n",
    "Desea llamar a una función, luego pasar el resultado a otra función y otra, de una manera que sea fácilmente legible utilice %>%, el poerador pipe de R. Por ejemplo:\n"
   ]
  },
  {
   "cell_type": "code",
   "execution_count": null,
   "metadata": {},
   "outputs": [],
   "source": [
    "library(dplyr) # The pipe is provided by dplyr\n",
    "head(morley)# Look at the morley data set\n"
   ]
  },
  {
   "cell_type": "code",
   "execution_count": null,
   "metadata": {},
   "outputs": [],
   "source": [
    "morley %>%\n",
    "filter(Expt == 1) %>% # filter is a function  from dplyr\n",
    "summary()"
   ]
  },
  {
   "cell_type": "markdown",
   "metadata": {},
   "source": [
    "Este patrón, con el operador %>%, se usa ampliamente con paquetes tidyverse, porque contienen muchas funciones que hacen cosas relativamente pequeñas. La idea es que estas funciones son bloques de construcción que permiten a los usuarios componer el La función llama juntas para producir el resultado deseado. Para ilustrar lo que está sucediendo, aquí hay un ejemplo más simple de dos equivalentes piezas de código: Si $f$ es una function entonces\n",
    "\n",
    "    f(x)\n",
    "    # equivalente a\n",
    "    x %>% f()"
   ]
  },
  {
   "cell_type": "code",
   "execution_count": null,
   "metadata": {},
   "outputs": [],
   "source": [
    "f = function(x){x^2}\n",
    "# \n",
    "x = 2\n",
    "f(x)\n",
    "#\n",
    "x %>% f\n"
   ]
  },
  {
   "cell_type": "markdown",
   "metadata": {},
   "source": [
    "Si se tiene la cades de funciones \n",
    "\n",
    "    h(g(f(x))\n",
    "    # equivalente a\n",
    "    x%>% \n",
    "    f() %>%\n",
    "    g()%>%\n",
    "    h()"
   ]
  },
  {
   "cell_type": "markdown",
   "metadata": {},
   "source": [
    "<h2><span class=\"header-section-number\">R1.3  </span>Exploración rápida de datos </h2>\n",
    "\n",
    "<h4><span class=\"header-section-number\">R1.3.1  </span>Diagramas de dispersión </h4>\n",
    "\n",
    "Usaremos los datos *mtcars*"
   ]
  },
  {
   "cell_type": "code",
   "execution_count": null,
   "metadata": {},
   "outputs": [],
   "source": [
    "head(mtcars)"
   ]
  },
  {
   "cell_type": "markdown",
   "metadata": {},
   "source": [
    "Un diagrama básico de dos variables se obitne simplemente con\n"
   ]
  },
  {
   "cell_type": "code",
   "execution_count": null,
   "metadata": {},
   "outputs": [],
   "source": [
    "plot(mtcars$wt, mtcars$mpg)"
   ]
  },
  {
   "cell_type": "markdown",
   "metadata": {},
   "source": [
    "Con *ggplot* obtenemos resultados similares, pero más elegantes. Trate de entedender el código."
   ]
  },
  {
   "cell_type": "code",
   "execution_count": null,
   "metadata": {},
   "outputs": [],
   "source": [
    "library(ggplot2)\n",
    "ggplot(data=mtcars, aes(x=wt, y = mpg)) +\n",
    "    geom_point()"
   ]
  },
  {
   "cell_type": "markdown",
   "metadata": {},
   "source": [
    "La primera parte, *ggplot()*, le dice que cree un objeto de trazado, y la segunda parte,\n",
    "*geom_point() le dice que agregue una capa de puntos a la gráfica.\n"
   ]
  },
  {
   "cell_type": "markdown",
   "metadata": {},
   "source": [
    "<h4><span class=\"header-section-number\">R1.3.2  </span>Creación del gráfico de una línea </h4>\n",
    "\n",
    "Como antes, primerolo haremos de manera primitiva y luego con *ggplot2*. Usamos la base de datos *pressure*"
   ]
  },
  {
   "cell_type": "code",
   "execution_count": null,
   "metadata": {},
   "outputs": [],
   "source": [
    "plot(pressure$temperature, pressure$pressure, type = \"l\")"
   ]
  },
  {
   "cell_type": "code",
   "execution_count": null,
   "metadata": {},
   "outputs": [],
   "source": [
    "# Adicionamos puntos a la gráfica  y una gráfica adicional con color rojo.\n",
    "# Observe que plot se utiliza únicamente la primera vez.\n",
    "plot(pressure$temperature, pressure$pressure, type = \"l\")\n",
    "points(pressure$temperature, pressure$pressure)\n",
    "lines(pressure$temperature, pressure$pressure/2, col = \"red\")\n",
    "points(pressure$temperature, pressure$pressure/2, col = \"red\")"
   ]
  },
  {
   "cell_type": "code",
   "execution_count": null,
   "metadata": {},
   "outputs": [],
   "source": [
    "# ggplot2\n",
    "ggplot(pressure, aes(x = temperature, y = pressure)) +\n",
    "geom_line() +\n",
    "geom_point()"
   ]
  },
  {
   "cell_type": "markdown",
   "metadata": {},
   "source": [
    "<h4><span class=\"header-section-number\">R1.3.3  </span>Creación de un diagrama de barras  </h4>\n",
    "\n",
    "Primero dams una mirada al conjunto de datos *BOD*"
   ]
  },
  {
   "cell_type": "code",
   "execution_count": null,
   "metadata": {},
   "outputs": [],
   "source": [
    "BOD"
   ]
  },
  {
   "cell_type": "code",
   "execution_count": null,
   "metadata": {},
   "outputs": [],
   "source": [
    "barplot(BOD$demand, names.arg= BOD$time)"
   ]
  },
  {
   "cell_type": "code",
   "execution_count": null,
   "metadata": {},
   "outputs": [],
   "source": [
    "# ggplot2\n",
    "ggplot(BOD, aes(x=Time, y = demand)) +\n",
    "geom_col()"
   ]
  },
  {
   "cell_type": "markdown",
   "metadata": {},
   "source": [
    "Ahora trataremos Time como un factor. Observe qu el espacio para el valor *Time  = 6* ya no está"
   ]
  },
  {
   "cell_type": "code",
   "execution_count": null,
   "metadata": {},
   "outputs": [],
   "source": [
    "ggplot(BOD, aes(x=factor(Time), y = demand)) +\n",
    "geom_col()"
   ]
  },
  {
   "cell_type": "markdown",
   "metadata": {},
   "source": [
    "<h4><span class=\"header-section-number\">R1.3.4  </span>Digramas de conteos. Función table </h4>\n",
    "\n",
    "\n",
    "La función *table()* para calcular conteso (frecuencias de datos)\n"
   ]
  },
  {
   "cell_type": "code",
   "execution_count": null,
   "metadata": {},
   "outputs": [],
   "source": [
    "table(mtcars$cyl)"
   ]
  },
  {
   "cell_type": "code",
   "execution_count": null,
   "metadata": {},
   "outputs": [],
   "source": [
    "barplot(table(mtcars$cyl))"
   ]
  },
  {
   "cell_type": "code",
   "execution_count": null,
   "metadata": {},
   "outputs": [],
   "source": [
    "#ggplot\n",
    "ggplot(mtcars, aes(x=cyl))+\n",
    "geom_bar()"
   ]
  },
  {
   "cell_type": "markdown",
   "metadata": {},
   "source": [
    "<h4><span class=\"header-section-number\">R1.3.5  </span> Creando histogramas</h4>\n",
    "\n",
    "Se utilizan para visualizar de forma discreta la distribución de una varriable unidimensional. Use la función *hist()*.\n"
   ]
  },
  {
   "cell_type": "code",
   "execution_count": null,
   "metadata": {},
   "outputs": [],
   "source": [
    "hist(mtcars$mpg)"
   ]
  },
  {
   "cell_type": "markdown",
   "metadata": {},
   "source": [
    "Especificación del número de bins"
   ]
  },
  {
   "cell_type": "code",
   "execution_count": null,
   "metadata": {},
   "outputs": [],
   "source": [
    "hist(mtcars$mpg, breaks = 10)"
   ]
  },
  {
   "cell_type": "code",
   "execution_count": null,
   "metadata": {},
   "outputs": [],
   "source": [
    "# ggplot\n",
    "# With wider bins y colores\n",
    "ggplot(mtcars, aes(x = mpg)) +\n",
    "geom_histogram(fill = \"lightblue\", colour = \"black\", binwidth = 4)"
   ]
  },
  {
   "cell_type": "markdown",
   "metadata": {},
   "source": [
    "<h4><span class=\"header-section-number\">R1.3.6  </span> Creando boxplots</h4>\n",
    "\n",
    "Son utilizados  para mostrar la distribución de datos por grupos. Usaremos el conjunto de datos *ToothGrowth*.  Función base *boxplot()*."
   ]
  },
  {
   "cell_type": "code",
   "execution_count": null,
   "metadata": {},
   "outputs": [],
   "source": [
    "head(ToothGrowth); tail(ToothGrowth)"
   ]
  },
  {
   "cell_type": "code",
   "execution_count": null,
   "metadata": {},
   "outputs": [],
   "source": [
    "boxplot(len~supp, data  = ToothGrowth)"
   ]
  },
  {
   "cell_type": "code",
   "execution_count": null,
   "metadata": {},
   "outputs": [],
   "source": [
    "# ggplot\n",
    "library(ggplot2)\n",
    "ggplot(ToothGrowth, aes(x = supp, y = len)) +\n",
    "geom_boxplot(fill = \"orange\", colour = \"blue\")"
   ]
  },
  {
   "cell_type": "markdown",
   "metadata": {},
   "source": [
    "<h4><span class=\"header-section-number\">R1.3.7  </span> Gráfica de un función</h4>\n",
    "\n",
    "Vamos a definir una función y graficarla usando la función *curve()* y en *ggplot*."
   ]
  },
  {
   "cell_type": "code",
   "execution_count": null,
   "metadata": {},
   "outputs": [],
   "source": [
    "fun_l = function(x){\n",
    "    1/(1+ exp(-x  + 10))\n",
    "}\n",
    "#\n",
    "curve(fun_l(x), from = 0, to = 20)\n",
    "# add a line:\n",
    "curve(1-fun_l(x), add = TRUE, col = \"red\")\n"
   ]
  },
  {
   "cell_type": "code",
   "execution_count": null,
   "metadata": {},
   "outputs": [],
   "source": [
    "# ggplot\n",
    "ggplot(data.frame(x = c(0,20)),aes(x=x)) +\n",
    "  stat_function(fun = fun_l, geom = \"line\",color=\"blue\") +\n",
    "  stat_function(fun = fun_l, geom = \"point\", color = \"red\") \n"
   ]
  },
  {
   "cell_type": "code",
   "execution_count": null,
   "metadata": {},
   "outputs": [],
   "source": [
    "head(mtcars)"
   ]
  }
 ],
 "metadata": {
  "kernelspec": {
   "display_name": "R",
   "language": "R",
   "name": "ir"
  },
  "language_info": {
   "codemirror_mode": "r",
   "file_extension": ".r",
   "mimetype": "text/x-r-source",
   "name": "R",
   "pygments_lexer": "r",
   "version": "3.6.2"
  }
 },
 "nbformat": 4,
 "nbformat_minor": 4
}
