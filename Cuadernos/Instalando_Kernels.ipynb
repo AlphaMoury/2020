{
  "nbformat": 4,
  "nbformat_minor": 0,
  "metadata": {
    "kernelspec": {
      "display_name": "R",
      "language": "R",
      "name": "ir"
    },
    "language_info": {
      "codemirror_mode": "r",
      "file_extension": ".r",
      "mimetype": "text/x-r-source",
      "name": "R",
      "pygments_lexer": "r",
      "version": "3.6.2"
    },
    "colab": {
      "name": "Instalando_Kernels.ipynb",
      "provenance": [],
      "collapsed_sections": []
    }
  },
  "cells": [
    {
      "cell_type": "markdown",
      "metadata": {
        "id": "FnbvkSDCE8CZ",
        "colab_type": "text"
      },
      "source": [
        "# Utilizando Kernels en JupyterLab\n",
        "\n",
        "¿Alguna vez te has preguntado si sería posible usar las posibilidades de Julia, Python y R en un sólo entorno gráfico estilo Notebook?\n",
        "\n",
        "\n",
        "**<center>¡Es posible!</center>**\n",
        "\n",
        "Para esto es necesario el concepto de Kernel e implementarlo en JupyterLab a través de Anaconda.\n",
        "\n",
        "El Objetivo de este cuaderno será lograr lo que se muestra a continuación cuando se inicialize JupyterLab:\n",
        "\n",
        "<img src=\"https://raw.githubusercontent.com/ucmadcursoPythonyR/2020/master/images/kernels.png\" />"
      ]
    },
    {
      "cell_type": "markdown",
      "metadata": {
        "id": "5vVk_9W0E8Ci",
        "colab_type": "text"
      },
      "source": [
        "# Requisitos:\n",
        "\n",
        "- Tener instalada una versión de **R** desde [aquí](https://cran.r-project.org/bin/windows/base/R-3.6.2-win.exe) ( versión acutal 3.6.2).\n",
        "\n",
        "- Descargar una versión de **Julia** desde [aquí](https://julialang-s3.julialang.org/bin/winnt/x64/1.3/julia-1.3.1-win64.exe) (versión actual 1.3.1).\n"
      ]
    },
    {
      "cell_type": "markdown",
      "metadata": {
        "id": "Om9KzFLzE8Cp",
        "colab_type": "text"
      },
      "source": [
        "# Instalación de IR\n",
        "\n",
        "1. Para comenzar, iniciamos el **Prompt** de Anaconda como **Administrador**.\n",
        "\n",
        "Ir a la ruta donde se encuentra instalado R.\n",
        "\n",
        "**Ejemplo (Para cada computador, es diferente la ruta):**\n",
        "\n",
        "2.  Ejecutar el comando ```\"C:\\Program Files\\R\\R-3.6.2\\bin\\R.exe\"``` en la consola de Anaconda (**note las comillas dobles**)\n",
        "\n",
        "Esto iniciará el motor de R dentro de Anaconda.\n",
        "\n",
        "Ahora vamos a instalar unos paquetes necesarios:\n",
        "\n",
        "3.  ```install.packages('IRkernel')```\n",
        "\n",
        "Elegir un mirror (0-Cloud es recomendado).\n",
        "\n",
        "Esto tomará algo de tiempo\n",
        "\n",
        "4.  ```update.packages(ask=FALSE)```\n",
        "\n",
        "Esto tomará algo de tiempo.\n",
        "\n",
        "Finalmente, \n",
        "\n",
        "5.  ```IRkernel::installspec()```\n",
        "\n",
        "Si todo marcha bien, no aparecerá ningún error.\n",
        "\n",
        "6. Lanzar Jupyterlab para verificar la instalación."
      ]
    },
    {
      "cell_type": "markdown",
      "metadata": {
        "id": "DCnkhVKiE8Ct",
        "colab_type": "text"
      },
      "source": [
        "# Instalación de IJulia\n",
        "\n",
        "En este caso, debemos ejecutar Julia, ubicado en la carpeta:\n",
        "\n",
        "```C:\\Users\\Nombre_Usuario\\AppData\\Local\\Julia-1.3.1\\bin\\julia.exe```\n",
        "\n",
        "Dentro de la consola, se ejecutara:\n",
        "\n",
        "1. ```using Pkg```\n",
        "2.  ```Pkg.add(\"IJulia\")```\n",
        "3. ```Pkg.build(\"IJulia\")``` (Si el resultado final es false, indica que todo marchó bien)\n",
        "\n",
        "Si todo finaliza bien, no deberá aparecer ningún error.\n"
      ]
    },
    {
      "cell_type": "markdown",
      "metadata": {
        "id": "VVGSYrApE8Cy",
        "colab_type": "text"
      },
      "source": [
        "# Lista de kernels instalados\n",
        "\n",
        "La instalación de los kernels de Jupyter atraviesa todos los ambientes de trabajo, así que no hay que instalarlos para cada uno de ellos.\n",
        "\n",
        "Para ver la lsita de Kernels instalados, se ejecuta en el Prompt de Anaconda:\n",
        "\n",
        "```jupyter kernelspec list```\n",
        "\n",
        "<img src=\"https://raw.githubusercontent.com/ucmadcursoPythonyR/2020/master/images/kernelspec_list.png?raw=true\" />\n",
        "\n",
        "Hemos terminado, ahora sólo falta arrancar Jupyter e iniciar en nuestro kernel favorito!\n",
        "\n",
        "**Notas:** \n",
        "\n",
        "1. De aquí el nombre **Jupyter**: \n",
        "\n",
        "- **Ju**(Julia)\n",
        "- **Pyt**(Python)\n",
        "- **e**(et)\n",
        "- **r**(R)\n",
        "\n",
        "2. Por supuesto, se úeden instalar muchos otros kernels, por ejemplo GNU Octave (Versión libre de MATLAB), lo único que hay que hacer es seguir las guías online con mucha paciencia.\n",
        "\n",
        "![kernels](http://datahonor-1252464519.costj.myqcloud.com/201803/Screenshot%20from%202018-03-21%2011-22-42.png)\n",
        "![kernels2](https://miro.medium.com/max/3560/1*ENGFiVsAWmc_0NCGAjpzSg.png)\n"
      ]
    },
    {
      "cell_type": "code",
      "metadata": {
        "id": "AXdh4-T2C5gC",
        "colab_type": "code",
        "colab": {}
      },
      "source": [
        ""
      ],
      "execution_count": 0,
      "outputs": []
    }
  ]
}
